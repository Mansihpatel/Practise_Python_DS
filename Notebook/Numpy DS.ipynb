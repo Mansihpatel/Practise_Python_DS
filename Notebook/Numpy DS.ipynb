{
 "cells": [
  {
   "cell_type": "markdown",
   "metadata": {},
   "source": [
    "\n",
    "# * Numpy "
   ]
  },
  {
   "cell_type": "code",
   "execution_count": 1,
   "metadata": {
    "ExecuteTime": {
     "end_time": "2021-02-12T17:27:56.345154Z",
     "start_time": "2021-02-12T17:27:55.943550Z"
    }
   },
   "outputs": [],
   "source": [
    "import pandas as pd \n",
    "import numpy as np "
   ]
  },
  {
   "cell_type": "code",
   "execution_count": 6,
   "metadata": {
    "ExecuteTime": {
     "end_time": "2021-02-12T17:33:03.350535Z",
     "start_time": "2021-02-12T17:33:03.342556Z"
    }
   },
   "outputs": [
    {
     "data": {
      "text/plain": [
       "numpy.ndarray"
      ]
     },
     "execution_count": 6,
     "metadata": {},
     "output_type": "execute_result"
    }
   ],
   "source": [
    "#1d array\n",
    "array1d = np.array([1,2,3,'name',None,3.22])\n",
    "type(array1d)"
   ]
  },
  {
   "cell_type": "code",
   "execution_count": 18,
   "metadata": {
    "ExecuteTime": {
     "end_time": "2021-02-12T17:39:04.920495Z",
     "start_time": "2021-02-12T17:39:04.905540Z"
    }
   },
   "outputs": [
    {
     "name": "stdout",
     "output_type": "stream",
     "text": [
      "[list([1, 2, 3, 4, 5]) list([2, 22, 'aa'])]\n",
      "shape is:  (2,)\n",
      "dimension is  1\n"
     ]
    }
   ],
   "source": [
    "# 2d array\n",
    "array2d = np.array([[1,2,3,4,5],[2,22,\"aa\",1,20150430_UKDebate.csv]])\n",
    "print(array2d)\n",
    "print(\"shape is: \", array2d.shape)\n",
    "print('dimension is ',array2d.ndim)"
   ]
  },
  {
   "cell_type": "code",
   "execution_count": 24,
   "metadata": {
    "ExecuteTime": {
     "end_time": "2021-02-12T17:43:44.986119Z",
     "start_time": "2021-02-12T17:43:44.969161Z"
    }
   },
   "outputs": [
    {
     "name": "stdout",
     "output_type": "stream",
     "text": [
      "[[ 1  2  3  4]\n",
      " [ 5  6  7  8]\n",
      " [ 9 10 11 12]]\n"
     ]
    },
    {
     "data": {
      "text/plain": [
       "2"
      ]
     },
     "execution_count": 24,
     "metadata": {},
     "output_type": "execute_result"
    }
   ],
   "source": [
    "# array\n",
    "array2d_2 = np.array([[1,2,3,4],[5,6,7,8],[9,10,11,12]])\n",
    "print(array2d_2)\n",
    "array2d_2.ndim"
   ]
  },
  {
   "cell_type": "code",
   "execution_count": 32,
   "metadata": {
    "ExecuteTime": {
     "end_time": "2021-02-12T17:48:35.049458Z",
     "start_time": "2021-02-12T17:48:35.040483Z"
    }
   },
   "outputs": [
    {
     "name": "stdout",
     "output_type": "stream",
     "text": [
      "[[[1 2 3]\n",
      "  [1 2 3]]\n",
      "\n",
      " [[4 4 4]\n",
      "  [1 2 4]]]\n",
      "dimension is: 3\n",
      "Shape is: (2, 2, 3)\n"
     ]
    }
   ],
   "source": [
    "# three dimensional\n",
    "array_3d = np.array([[[1,2,3],[1,2,3]],[[4,4,4],[1,2,4]]])\n",
    "print(array_3d)\n",
    "print(\"dimension is:\",array_3d.ndim)\n",
    "print(\"Shape is:\",array_3d.shape)"
   ]
  },
  {
   "cell_type": "code",
   "execution_count": 42,
   "metadata": {
    "ExecuteTime": {
     "end_time": "2021-02-12T17:58:38.414429Z",
     "start_time": "2021-02-12T17:58:38.395334Z"
    }
   },
   "outputs": [
    {
     "name": "stdout",
     "output_type": "stream",
     "text": [
      "[ 0  1  2  3  4  5  6  7  8  9 10 11 12 13 14 15 16 17 18 19]\n",
      "(20,) 1\n",
      "[[ 0  1  2  3  4  5  6  7  8  9]\n",
      " [10 11 12 13 14 15 16 17 18 19]]\n",
      "2\n"
     ]
    }
   ],
   "source": [
    "# reshaping array\n",
    "array1 = np.arange(20)\n",
    "print(array1)\n",
    "print(array1.shape,array1.ndim)\n",
    "\n",
    "array2_2d = array1.reshape(2,10) # reshaping to 2d array\n",
    "array2_3d = array1.reshape(2,2,5) # reshaping to 3d array\n",
    "\n",
    "print(array2)\n",
    "print(array2.ndim)\n"
   ]
  },
  {
   "cell_type": "code",
   "execution_count": 45,
   "metadata": {
    "ExecuteTime": {
     "end_time": "2021-02-12T18:01:57.295240Z",
     "start_time": "2021-02-12T18:01:57.281282Z"
    }
   },
   "outputs": [
    {
     "name": "stdout",
     "output_type": "stream",
     "text": [
      "int32\n",
      "[ 3  6  9 12]\n",
      "[1, 2, 3, 4, 1, 2, 3, 4, 1, 2, 3, 4]\n"
     ]
    }
   ],
   "source": [
    "# array is homogeneous\n",
    "\n",
    "array3 = np.array([1,2,3,4])\n",
    "print(array3.dtype)\n",
    "print(array3*3)\n",
    "#************************ difference between list and array*****in array '*' ans will be multiplication while in list disple n time\n",
    "l1 = [1,2,3,4]\n",
    "print(l1*3)"
   ]
  },
  {
   "cell_type": "code",
   "execution_count": 56,
   "metadata": {
    "ExecuteTime": {
     "end_time": "2021-02-12T18:09:45.833006Z",
     "start_time": "2021-02-12T18:09:45.823031Z"
    }
   },
   "outputs": [
    {
     "name": "stdout",
     "output_type": "stream",
     "text": [
      "['1' '2' '3' 'a']\n",
      "<U11\n"
     ]
    },
    {
     "data": {
      "text/plain": [
       "'aa'"
      ]
     },
     "execution_count": 56,
     "metadata": {},
     "output_type": "execute_result"
    }
   ],
   "source": [
    "array4 = np.array([1,2,3,'a'])\n",
    "print(array4)\n",
    "print(array4.dtype)\n",
    "array4[3]+'a' \n",
    "#print(array4*2) # its not possible-error"
   ]
  },
  {
   "cell_type": "code",
   "execution_count": 65,
   "metadata": {
    "ExecuteTime": {
     "end_time": "2021-02-12T18:13:23.099592Z",
     "start_time": "2021-02-12T18:13:23.085634Z"
    }
   },
   "outputs": [
    {
     "name": "stdout",
     "output_type": "stream",
     "text": [
      "[1 2 3 4 8 0]\n",
      "int16\n"
     ]
    }
   ],
   "source": [
    "array5 = np.array([1,2,3,4,8.2,0],dtype = 'i2')#integer of 2 bytes\n",
    "print(array5)\n",
    "print(array5.dtype)"
   ]
  },
  {
   "cell_type": "code",
   "execution_count": 66,
   "metadata": {
    "ExecuteTime": {
     "end_time": "2021-02-12T18:17:39.630949Z",
     "start_time": "2021-02-12T18:17:39.613001Z"
    }
   },
   "outputs": [
    {
     "name": "stdout",
     "output_type": "stream",
     "text": [
      "[1. 2. 3.]\n",
      "float32\n"
     ]
    },
    {
     "data": {
      "text/plain": [
       "numpy.ndarray"
      ]
     },
     "execution_count": 66,
     "metadata": {},
     "output_type": "execute_result"
    }
   ],
   "source": [
    "# convert int array to float\n",
    "array7_i = np.array([1,2,3])\n",
    "array7_f = array7_i.astype('f')\n",
    "print(array7_f)\n",
    "print(array7_f.dtype)\n",
    "type(array7_i)"
   ]
  },
  {
   "cell_type": "code",
   "execution_count": 69,
   "metadata": {
    "ExecuteTime": {
     "end_time": "2021-02-12T18:19:28.082094Z",
     "start_time": "2021-02-12T18:19:28.075115Z"
    }
   },
   "outputs": [
    {
     "name": "stdout",
     "output_type": "stream",
     "text": [
      "[1 2 3 0 0]\n",
      "int32\n"
     ]
    }
   ],
   "source": [
    "# convert float array to int\n",
    "array8_i = np.array([1.111,2,3,0.0,0.0])\n",
    "array8_f = array8_i.astype('i')\n",
    "print(array8_f)\n",
    "print(array8_f.dtype)\n"
   ]
  },
  {
   "cell_type": "markdown",
   "metadata": {
    "ExecuteTime": {
     "end_time": "2021-02-12T18:56:24.858855Z",
     "start_time": "2021-02-12T18:56:24.848885Z"
    }
   },
   "source": [
    "# * Indexing, Slicing, Joining, Spliting"
   ]
  },
  {
   "cell_type": "code",
   "execution_count": null,
   "metadata": {},
   "outputs": [],
   "source": [
    "import numpy as np"
   ]
  },
  {
   "cell_type": "markdown",
   "metadata": {
    "ExecuteTime": {
     "end_time": "2021-02-12T19:00:06.556469Z",
     "start_time": "2021-02-12T19:00:06.550486Z"
    }
   },
   "source": [
    "#create 1d,2d,3d arrays"
   ]
  },
  {
   "cell_type": "code",
   "execution_count": 81,
   "metadata": {
    "ExecuteTime": {
     "end_time": "2021-02-12T19:09:17.534733Z",
     "start_time": "2021-02-12T19:09:17.525756Z"
    }
   },
   "outputs": [
    {
     "name": "stdout",
     "output_type": "stream",
     "text": [
      "[ 0  1  2  3  4  5  6  7  8  9 10 11 12 13 14 15 16 17 18 19]\n",
      "[[ 0  1  2  3  4  5  6  7  8  9]\n",
      " [10 11 12 13 14 15 16 17 18 19]]\n",
      "[[[ 0  1  2  3  4]]\n",
      "\n",
      " [[ 5  6  7  8  9]]\n",
      "\n",
      " [[10 11 12 13 14]]\n",
      "\n",
      " [[15 16 17 18 19]]]\n"
     ]
    }
   ],
   "source": [
    "array1d = np.arange(20)\n",
    "array2d = array1.reshape(2,10)\n",
    "array3d = array1.reshape(4,1,5)\n",
    "print(array1d)\n",
    "print(array2d)\n",
    "print(array3d)"
   ]
  },
  {
   "cell_type": "code",
   "execution_count": 83,
   "metadata": {
    "ExecuteTime": {
     "end_time": "2021-02-12T19:13:13.908550Z",
     "start_time": "2021-02-12T19:13:13.899573Z"
    }
   },
   "outputs": [
    {
     "name": "stdout",
     "output_type": "stream",
     "text": [
      "4 th position in 1d: 3\n",
      "5th element on 2d array: 14\n"
     ]
    }
   ],
   "source": [
    "# indexing\n",
    "\n",
    "print(\"4 th position in 1d:\",array1d[3])\n",
    "print('5th element on 2d array:',array2d[1,4])\n",
    "print('')"
   ]
  },
  {
   "cell_type": "code",
   "execution_count": 90,
   "metadata": {
    "ExecuteTime": {
     "end_time": "2021-02-12T19:17:35.900688Z",
     "start_time": "2021-02-12T19:17:35.889718Z"
    }
   },
   "outputs": [
    {
     "name": "stdout",
     "output_type": "stream",
     "text": [
      "5th element on 2 dim in 1st array: 9\n"
     ]
    }
   ],
   "source": [
    "print(\"5th element on _ dim in 1st array:\", array3d[1,0,4])"
   ]
  },
  {
   "cell_type": "code",
   "execution_count": 91,
   "metadata": {
    "ExecuteTime": {
     "end_time": "2021-02-12T19:21:05.616867Z",
     "start_time": "2021-02-12T19:21:05.598897Z"
    }
   },
   "outputs": [
    {
     "name": "stdout",
     "output_type": "stream",
     "text": [
      "last element from 2nd dim: 19\n"
     ]
    }
   ],
   "source": [
    "# negative indexing\n",
    "print(\"last element from 2nd dim:\",array2[1,-1])"
   ]
  },
  {
   "cell_type": "code",
   "execution_count": 92,
   "metadata": {
    "ExecuteTime": {
     "end_time": "2021-02-12T19:24:42.504443Z",
     "start_time": "2021-02-12T19:24:42.484505Z"
    }
   },
   "outputs": [
    {
     "name": "stdout",
     "output_type": "stream",
     "text": [
      "[ 0  1  2  3  4  5  6  7  8  9 10 11 12 13 14 15 16 17 18 19]\n",
      "[0 1 2 3 4 5 6]\n",
      "[[ 0  1  2  3  4  5  6  7  8  9]\n",
      " [10 11 12 13 14 15 16 17 18 19]]\n",
      "[1 2 3]\n"
     ]
    }
   ],
   "source": [
    "# slicing\n",
    " # 1d array\n",
    "print(array1d)\n",
    "print(array1d[:7])\n",
    "\n",
    "# 2d array ...first row from 1to 4\n",
    "print(array2d)\n",
    "print(array2d[0,1:4])\n"
   ]
  },
  {
   "cell_type": "code",
   "execution_count": 93,
   "metadata": {
    "ExecuteTime": {
     "end_time": "2021-02-12T19:31:18.829517Z",
     "start_time": "2021-02-12T19:31:18.811567Z"
    }
   },
   "outputs": [
    {
     "name": "stdout",
     "output_type": "stream",
     "text": [
      "[[ 0  1  2  3  4  5  6  7  8  9]\n",
      " [10 11 12 13 14 15 16 17 18 19]]\n",
      "[[ 1  2  3]\n",
      " [11 12 13]]\n"
     ]
    }
   ],
   "source": [
    "# slicing 2d from 2d\n",
    "print(array2d)\n",
    "print(array2d[:,1:4]) # from both rows take 1:4 values"
   ]
  },
  {
   "cell_type": "code",
   "execution_count": 95,
   "metadata": {
    "ExecuteTime": {
     "end_time": "2021-02-12T19:33:40.907188Z",
     "start_time": "2021-02-12T19:33:40.884241Z"
    }
   },
   "outputs": [
    {
     "data": {
      "text/plain": [
       "array([1, 2, 3, 4, 4, 5, 6, 7])"
      ]
     },
     "execution_count": 95,
     "metadata": {},
     "output_type": "execute_result"
    }
   ],
   "source": [
    "# join 1d array by concatination\n",
    "data1 = np.array([1,2,3,4])\n",
    "data2 = np.array([4,5,6,7])\n",
    "newdata = np.concatenate((data1,data2))\n",
    "newdata"
   ]
  },
  {
   "cell_type": "code",
   "execution_count": 104,
   "metadata": {
    "ExecuteTime": {
     "end_time": "2021-02-12T19:39:25.935903Z",
     "start_time": "2021-02-12T19:39:25.916953Z"
    }
   },
   "outputs": [
    {
     "name": "stdout",
     "output_type": "stream",
     "text": [
      "[[ 1.   2.   3.   4. ]\n",
      " [ 2.   2.   1.2  0. ]\n",
      " [ 4.   5.   6.   7. ]\n",
      " [ 3.   3.   0.  11. ]]\n",
      "(4, 4)\n"
     ]
    }
   ],
   "source": [
    "# join 2d array by concate\n",
    "data1 = np.array([[1,2,3,4],[2,2,1.2,0]])\n",
    "data2 = np.array([[4,5,6,7],[3,3,0,11]])\n",
    "newdata = np.concatenate((data1,data2))\n",
    "print(newdata)\n",
    "print(newdata.shape)\n"
   ]
  },
  {
   "cell_type": "code",
   "execution_count": 101,
   "metadata": {
    "ExecuteTime": {
     "end_time": "2021-02-12T19:36:59.395301Z",
     "start_time": "2021-02-12T19:36:59.373358Z"
    }
   },
   "outputs": [
    {
     "data": {
      "text/plain": [
       "array([[ 1. ,  2. ,  3. ,  4. ,  4. ,  5. ,  6. ,  7. ],\n",
       "       [ 2. ,  2. ,  1.2,  0. ,  3. ,  3. ,  0. , 11. ]])"
      ]
     },
     "execution_count": 101,
     "metadata": {},
     "output_type": "execute_result"
    }
   ],
   "source": [
    "# join 2d array by concate with Axis parameter\n",
    "data1 = np.array([[1,2,3,4],[2,2,1.2,0]])\n",
    "data2 = np.array([[4,5,6,7],[3,3,0,11]])\n",
    "newdata = np.concatenate((data1,data2),axis=1)\n",
    "newdata "
   ]
  },
  {
   "cell_type": "code",
   "execution_count": 105,
   "metadata": {
    "ExecuteTime": {
     "end_time": "2021-02-12T19:39:33.269113Z",
     "start_time": "2021-02-12T19:39:33.252161Z"
    }
   },
   "outputs": [
    {
     "name": "stdout",
     "output_type": "stream",
     "text": [
      "[[[ 1.   2.   3.   4. ]\n",
      "  [ 2.   2.   1.2  0. ]]\n",
      "\n",
      " [[ 4.   5.   6.   7. ]\n",
      "  [ 3.   3.   0.  11. ]]]\n",
      "(2, 2, 4)\n"
     ]
    }
   ],
   "source": [
    "# join using stack\n",
    "data1 = np.array([[1,2,3,4],[2,2,1.2,0]])\n",
    "data2 = np.array([[4,5,6,7],[3,3,0,11]])\n",
    "newdata = np.stack((data1,data2))\n",
    "print(newdata)\n",
    "print(newdata.shape) # stack convert 2d to 3d"
   ]
  },
  {
   "cell_type": "code",
   "execution_count": 106,
   "metadata": {
    "ExecuteTime": {
     "end_time": "2021-02-12T19:40:59.263992Z",
     "start_time": "2021-02-12T19:40:59.252024Z"
    }
   },
   "outputs": [
    {
     "name": "stdout",
     "output_type": "stream",
     "text": [
      "[[ 1.   2.   3.   4.   4.   5.   6.   7. ]\n",
      " [ 2.   2.   1.2  0.   3.   3.   0.  11. ]]\n",
      "(2, 8)\n"
     ]
    }
   ],
   "source": [
    "# to stack by rows\n",
    "data1 = np.array([[1,2,3,4],[2,2,1.2,0]])\n",
    "data2 = np.array([[4,5,6,7],[3,3,0,11]])\n",
    "newdata = np.hstack((data1,data2))\n",
    "print(newdata)\n",
    "print(newdata.shape)"
   ]
  },
  {
   "cell_type": "code",
   "execution_count": 107,
   "metadata": {
    "ExecuteTime": {
     "end_time": "2021-02-12T19:41:16.840946Z",
     "start_time": "2021-02-12T19:41:16.832968Z"
    }
   },
   "outputs": [
    {
     "name": "stdout",
     "output_type": "stream",
     "text": [
      "[[ 1.   2.   3.   4. ]\n",
      " [ 2.   2.   1.2  0. ]\n",
      " [ 4.   5.   6.   7. ]\n",
      " [ 3.   3.   0.  11. ]]\n",
      "(4, 4)\n"
     ]
    }
   ],
   "source": [
    "# to stack by columns\n",
    "data1 = np.array([[1,2,3,4],[2,2,1.2,0]])\n",
    "data2 = np.array([[4,5,6,7],[3,3,0,11]])\n",
    "newdata = np.vstack((data1,data2))\n",
    "print(newdata)\n",
    "print(newdata.shape)"
   ]
  },
  {
   "cell_type": "code",
   "execution_count": 114,
   "metadata": {
    "ExecuteTime": {
     "end_time": "2021-02-12T19:45:50.539041Z",
     "start_time": "2021-02-12T19:45:50.517099Z"
    }
   },
   "outputs": [
    {
     "name": "stdout",
     "output_type": "stream",
     "text": [
      "[array([1, 2, 3]), array([4, 5])]\n",
      "[4 5]\n"
     ]
    }
   ],
   "source": [
    "# spliting 1d array\n",
    "data = np.array([1,2,3,4,5])\n",
    "new_array = np.split(data,2.5)\n",
    "print(new_array)\n",
    "print(new_array[1])"
   ]
  },
  {
   "cell_type": "code",
   "execution_count": 122,
   "metadata": {
    "ExecuteTime": {
     "end_time": "2021-02-12T19:49:07.784116Z",
     "start_time": "2021-02-12T19:49:07.767163Z"
    }
   },
   "outputs": [
    {
     "name": "stdout",
     "output_type": "stream",
     "text": [
      "[array([[1, 2, 3],\n",
      "       [4, 5, 6]]), array([[ 7,  8,  9],\n",
      "       [10, 11, 12]])]\n",
      "[1 2 3]\n"
     ]
    }
   ],
   "source": [
    "#split 2d array\n",
    "data = np.array([[1,2,3],[4,5,6],[7,8,9],[10,11,12]])\n",
    "new_array2 = np.split(data,2)\n",
    "print(new_array2)\n",
    "print(new_array2[0][0])"
   ]
  },
  {
   "cell_type": "code",
   "execution_count": 127,
   "metadata": {
    "ExecuteTime": {
     "end_time": "2021-02-12T19:54:26.622972Z",
     "start_time": "2021-02-12T19:54:26.602031Z"
    }
   },
   "outputs": [
    {
     "name": "stdout",
     "output_type": "stream",
     "text": [
      "[array([[ 1],\n",
      "       [ 4],\n",
      "       [ 7],\n",
      "       [10]]), array([[ 2],\n",
      "       [ 5],\n",
      "       [ 8],\n",
      "       [11]]), array([[ 3],\n",
      "       [ 6],\n",
      "       [ 9],\n",
      "       [12]])]\n"
     ]
    }
   ],
   "source": [
    "# split 2d based on axis\n",
    "data = np.array([[1,2,3],[4,5,6],[7,8,9],[10,11,12]])\n",
    "new_array2 = np.split(data,3,axis =1) # horizontal slicing\n",
    "print(new_array2)\n"
   ]
  },
  {
   "cell_type": "markdown",
   "metadata": {},
   "source": [
    "# Iteration, manipulation, Random numbers"
   ]
  },
  {
   "cell_type": "code",
   "execution_count": 129,
   "metadata": {
    "ExecuteTime": {
     "end_time": "2021-02-12T19:59:32.573871Z",
     "start_time": "2021-02-12T19:59:32.556918Z"
    }
   },
   "outputs": [
    {
     "name": "stdout",
     "output_type": "stream",
     "text": [
      "1\n",
      "1\n",
      "2\n",
      "2\n",
      "3\n",
      "3\n",
      "4\n",
      "4\n"
     ]
    }
   ],
   "source": [
    "# iteration through elements of array\n",
    "# iterate over 1d array\n",
    "\n",
    "array1 = np.array([1,2,3,4])\n",
    "i = 0\n",
    "for x in array1:\n",
    "    print(x)\n",
    "    i=i+1\n",
    "    print(i)\n"
   ]
  },
  {
   "cell_type": "code",
   "execution_count": 131,
   "metadata": {
    "ExecuteTime": {
     "end_time": "2021-02-12T20:01:26.268490Z",
     "start_time": "2021-02-12T20:01:26.253534Z"
    }
   },
   "outputs": [
    {
     "name": "stdout",
     "output_type": "stream",
     "text": [
      "[1 2 3]\n",
      "1\n",
      "[3 4 5]\n",
      "2\n"
     ]
    }
   ],
   "source": [
    "# iterate 2d array\n",
    "array2 = np.array([[1,2,3],[3,4,5]])\n",
    "# for x in array2:\n",
    "#     print(x)\n",
    "    \n",
    "i=0\n",
    "for x in array2:\n",
    "    print(x)\n",
    "    i=i+1\n",
    "    print(i)"
   ]
  },
  {
   "cell_type": "code",
   "execution_count": 133,
   "metadata": {
    "ExecuteTime": {
     "end_time": "2021-02-12T20:07:59.056247Z",
     "start_time": "2021-02-12T20:07:59.048268Z"
    }
   },
   "outputs": [
    {
     "name": "stdout",
     "output_type": "stream",
     "text": [
      "[1 2 3]\n",
      "1\n",
      "2\n",
      "3\n",
      "[3 4 5]\n",
      "3\n",
      "4\n",
      "5\n"
     ]
    }
   ],
   "source": [
    "# iterate by elements in 2-d array\n",
    "array3 = np.array([[1,2,3],[3,4,5]])\n",
    "for i in array3:\n",
    "    print(i)\n",
    "    for j in i:\n",
    "        print(j)"
   ]
  },
  {
   "cell_type": "code",
   "execution_count": 135,
   "metadata": {
    "ExecuteTime": {
     "end_time": "2021-02-12T20:10:10.399725Z",
     "start_time": "2021-02-12T20:10:10.384767Z"
    }
   },
   "outputs": [
    {
     "name": "stdout",
     "output_type": "stream",
     "text": [
      "[[1 2]\n",
      " [1 2]]\n",
      "[[3 4]\n",
      " [3 4]]\n"
     ]
    }
   ],
   "source": [
    "# iterate through 3-d array\n",
    "array4 = np.array([[[1,2],[1,2]],[[3,4],[3,4]]])\n",
    "#print(array4)\n",
    "for x in array4:\n",
    "    print(x)"
   ]
  },
  {
   "cell_type": "code",
   "execution_count": 141,
   "metadata": {
    "ExecuteTime": {
     "end_time": "2021-02-12T20:14:14.858449Z",
     "start_time": "2021-02-12T20:14:14.846481Z"
    }
   },
   "outputs": [
    {
     "name": "stdout",
     "output_type": "stream",
     "text": [
      "*****\n",
      "[['1' '2']\n",
      " ['3' '4']]\n",
      "['1' '2']\n",
      "1\n",
      "2\n",
      "['3' '4']\n",
      "3\n",
      "4\n",
      "*****\n",
      "[['a' 'b']\n",
      " ['c' 'd']]\n",
      "['a' 'b']\n",
      "a\n",
      "b\n",
      "['c' 'd']\n",
      "c\n",
      "d\n"
     ]
    }
   ],
   "source": [
    "# accesing all elements of 3d  level\n",
    "array5 = np.array([[[1,2],[3,4]],[['a','b'],['c','d']]])\n",
    "for i in array5:\n",
    "    print(\"*****\")\n",
    "    print(i)\n",
    "    for j in i:\n",
    "        print(j)\n",
    "        for k in j:\n",
    "            print(k)\n",
    "            \n",
    "\n"
   ]
  },
  {
   "cell_type": "code",
   "execution_count": 142,
   "metadata": {
    "ExecuteTime": {
     "end_time": "2021-02-12T20:46:33.633053Z",
     "start_time": "2021-02-12T20:46:33.615102Z"
    }
   },
   "outputs": [
    {
     "name": "stdout",
     "output_type": "stream",
     "text": [
      "1\n",
      "2\n",
      "3\n",
      "4\n",
      "a\n",
      "b\n",
      "c\n",
      "d\n"
     ]
    }
   ],
   "source": [
    "# using nditer and loop through array\n",
    "\n",
    "array6 = np.array([[[1,2],[3,4]],[['a','b'],['c','d']]])\n",
    "for i in np.nditer(array6):\n",
    "    print(i)\n"
   ]
  },
  {
   "cell_type": "code",
   "execution_count": 145,
   "metadata": {
    "ExecuteTime": {
     "end_time": "2021-02-12T20:50:20.855967Z",
     "start_time": "2021-02-12T20:50:20.835022Z"
    }
   },
   "outputs": [
    {
     "name": "stdout",
     "output_type": "stream",
     "text": [
      "[ 0  1  2  3  4  5  6  7  8  9 10 11 12 13 14 15 16 17 18 19 20 21 22 23\n",
      " 24]\n"
     ]
    },
    {
     "data": {
      "text/plain": [
       "array([[ 0,  1,  2,  3,  4],\n",
       "       [ 5,  6,  7,  8,  9],\n",
       "       [10, 11, 12, 13, 14],\n",
       "       [15, 16, 17, 18, 19],\n",
       "       [20, 21, 22, 23, 24]])"
      ]
     },
     "execution_count": 145,
     "metadata": {},
     "output_type": "execute_result"
    }
   ],
   "source": [
    "# manipulation\n",
    "## reshape 1d to higher dimension - use reshape\n",
    "m_array1 = np.arange(25)\n",
    "print(m_array1)\n",
    "m_array2 = m_array1.reshape(5,5)\n",
    "m_array2"
   ]
  },
  {
   "cell_type": "code",
   "execution_count": 147,
   "metadata": {
    "ExecuteTime": {
     "end_time": "2021-02-12T20:52:07.460329Z",
     "start_time": "2021-02-12T20:52:07.450359Z"
    }
   },
   "outputs": [
    {
     "data": {
      "text/plain": [
       "array([ 0,  1,  2,  3,  4,  5,  6,  7,  8,  9, 10, 11, 12, 13, 14, 15, 16,\n",
       "       17, 18, 19, 20, 21, 22, 23, 24])"
      ]
     },
     "execution_count": 147,
     "metadata": {},
     "output_type": "execute_result"
    }
   ],
   "source": [
    "# flatten - higher dimension to 1-d\n",
    "m_array3 = m_array2.flatten()\n",
    "m_array3"
   ]
  },
  {
   "cell_type": "code",
   "execution_count": 151,
   "metadata": {
    "ExecuteTime": {
     "end_time": "2021-02-12T20:53:02.583599Z",
     "start_time": "2021-02-12T20:53:02.567645Z"
    }
   },
   "outputs": [
    {
     "data": {
      "text/plain": [
       "array([[ 0,  5, 10, 15, 20],\n",
       "       [ 1,  6, 11, 16, 21],\n",
       "       [ 2,  7, 12, 17, 22],\n",
       "       [ 3,  8, 13, 18, 23],\n",
       "       [ 4,  9, 14, 19, 24]])"
      ]
     },
     "execution_count": 151,
     "metadata": {},
     "output_type": "execute_result"
    }
   ],
   "source": [
    "# transpose\n",
    "m_array2.T"
   ]
  },
  {
   "cell_type": "code",
   "execution_count": 154,
   "metadata": {
    "ExecuteTime": {
     "end_time": "2021-02-12T20:55:01.659830Z",
     "start_time": "2021-02-12T20:55:01.641878Z"
    }
   },
   "outputs": [
    {
     "name": "stdout",
     "output_type": "stream",
     "text": [
      "[[ 0  5 10 15 20]\n",
      " [ 1  6 11 16 21]\n",
      " [ 2  7 12 17 22]\n",
      " [ 3  8 13 18 23]\n",
      " [ 4  9 14 19 24]]\n"
     ]
    }
   ],
   "source": [
    "# roll axis ------- its like transpose\n",
    "print(np.rollaxis(m_array2,1))"
   ]
  },
  {
   "cell_type": "code",
   "execution_count": 155,
   "metadata": {
    "ExecuteTime": {
     "end_time": "2021-02-12T20:55:43.455324Z",
     "start_time": "2021-02-12T20:55:43.445347Z"
    }
   },
   "outputs": [],
   "source": [
    "# some other techniques ---join, slice, spliting"
   ]
  },
  {
   "cell_type": "markdown",
   "metadata": {
    "ExecuteTime": {
     "end_time": "2021-02-12T20:55:56.711753Z",
     "start_time": "2021-02-12T20:55:56.698783Z"
    }
   },
   "source": [
    "#********Random numbers"
   ]
  },
  {
   "cell_type": "code",
   "execution_count": 157,
   "metadata": {
    "ExecuteTime": {
     "end_time": "2021-02-12T20:56:39.930127Z",
     "start_time": "2021-02-12T20:56:39.915135Z"
    }
   },
   "outputs": [],
   "source": [
    "from numpy import random"
   ]
  },
  {
   "cell_type": "code",
   "execution_count": 160,
   "metadata": {
    "ExecuteTime": {
     "end_time": "2021-02-12T20:57:19.042344Z",
     "start_time": "2021-02-12T20:57:19.026387Z"
    }
   },
   "outputs": [
    {
     "data": {
      "text/plain": [
       "numpy.ndarray"
      ]
     },
     "execution_count": 160,
     "metadata": {},
     "output_type": "execute_result"
    }
   ],
   "source": [
    "random.rand(10)"
   ]
  },
  {
   "cell_type": "code",
   "execution_count": 163,
   "metadata": {
    "ExecuteTime": {
     "end_time": "2021-02-12T20:58:44.853809Z",
     "start_time": "2021-02-12T20:58:44.833863Z"
    }
   },
   "outputs": [
    {
     "name": "stdout",
     "output_type": "stream",
     "text": [
      "[1 1 6 8 7]\n"
     ]
    }
   ],
   "source": [
    "# random 1d array\n",
    "r_ar1 = random.randint(10,size=(5))\n",
    "print(r_ar1)\n"
   ]
  },
  {
   "cell_type": "code",
   "execution_count": 168,
   "metadata": {
    "ExecuteTime": {
     "end_time": "2021-02-12T20:59:43.561550Z",
     "start_time": "2021-02-12T20:59:43.547591Z"
    }
   },
   "outputs": [
    {
     "data": {
      "text/plain": [
       "array([[ 7, 62, 99, 73, 55],\n",
       "       [55, 60, 48, 46, 54],\n",
       "       [95, 75, 60,  9, 71],\n",
       "       [50, 60, 19, 29, 20],\n",
       "       [94, 80, 62, 84,  3]])"
      ]
     },
     "execution_count": 168,
     "metadata": {},
     "output_type": "execute_result"
    }
   ],
   "source": [
    "# random 2d array\n",
    "r_ar2 = random.randint(100,size=(5,5))\n",
    "r_ar2"
   ]
  },
  {
   "cell_type": "code",
   "execution_count": 182,
   "metadata": {
    "ExecuteTime": {
     "end_time": "2021-02-12T21:06:35.344470Z",
     "start_time": "2021-02-12T21:06:35.321534Z"
    }
   },
   "outputs": [
    {
     "data": {
      "text/plain": [
       "array([2, 3, 2, 3, 3, 1, 2, 3, 1, 2, 2, 1, 2, 3, 3, 3, 3, 1, 2, 2])"
      ]
     },
     "execution_count": 182,
     "metadata": {},
     "output_type": "execute_result"
    }
   ],
   "source": [
    "# random array with a specific distributation\n",
    "r_arr3 = random.choice([1,2,3],p=[0.3,0.3,0.4],size =20)\n",
    "r_arr3"
   ]
  },
  {
   "cell_type": "markdown",
   "metadata": {
    "ExecuteTime": {
     "end_time": "2021-02-12T21:07:00.883029Z",
     "start_time": "2021-02-12T21:07:00.868068Z"
    }
   },
   "source": [
    "# Array Operations"
   ]
  },
  {
   "cell_type": "markdown",
   "metadata": {
    "ExecuteTime": {
     "end_time": "2021-02-12T21:10:33.849626Z",
     "start_time": "2021-02-12T21:10:33.829679Z"
    }
   },
   "source": [
    "**************************************************\n",
    "bitwise- 10 AND 11 - 1011 \n",
    "string - adding character,capitalize and other case \n",
    "matematical - add,sub,mul,power\n",
    "stat - AVG,median,percentile\n",
    "**************************************************"
   ]
  },
  {
   "cell_type": "code",
   "execution_count": null,
   "metadata": {},
   "outputs": [],
   "source": [
    "import numpy as np"
   ]
  },
  {
   "cell_type": "code",
   "execution_count": 188,
   "metadata": {
    "ExecuteTime": {
     "end_time": "2021-02-12T21:15:25.512640Z",
     "start_time": "2021-02-12T21:15:25.492697Z"
    }
   },
   "outputs": [
    {
     "name": "stdout",
     "output_type": "stream",
     "text": [
      "Number 1: 10 Binary: 1010\n",
      "Number 1: 11 Binary: 1011\n"
     ]
    }
   ],
   "source": [
    "# bitwise operator ,,,it will convert number to binary\n",
    "num1 = 10\n",
    "num2 = 11\n",
    "print(\"Number 1:\",num1,'Binary:',np.binary_repr(num1))\n",
    "print(\"Number 1:\",num2,'Binary:',np.binary_repr(num2))"
   ]
  },
  {
   "cell_type": "code",
   "execution_count": 195,
   "metadata": {
    "ExecuteTime": {
     "end_time": "2021-02-12T21:29:34.657550Z",
     "start_time": "2021-02-12T21:29:34.650535Z"
    }
   },
   "outputs": [
    {
     "name": "stdout",
     "output_type": "stream",
     "text": [
      "Bitwise_or_operator: 11 binary_representation 1011\n",
      "Bitwise_and_operator: 10 binary_representation 1010\n"
     ]
    }
   ],
   "source": [
    "# bitwise OR-AND\n",
    "num1 = 10\n",
    "num2 = 11\n",
    "bitwise_OR_operator = np.bitwise_or(num1,num2)\n",
    "bitwise_and_operator = np.bitwise_and(num1,num2)\n",
    "print(\"Bitwise_or_operator:\",bitwise_OR_operator,'binary_representation',np.binary_repr(bitwise_OR_operator))\n",
    "print(\"Bitwise_and_operator:\",bitwise_and_operator,'binary_representation',np.binary_repr(bitwise_and_operator))"
   ]
  },
  {
   "cell_type": "code",
   "execution_count": 198,
   "metadata": {
    "ExecuteTime": {
     "end_time": "2021-02-12T21:31:57.192986Z",
     "start_time": "2021-02-12T21:31:57.179023Z"
    }
   },
   "outputs": [
    {
     "data": {
      "text/plain": [
       "array(['ax', 'by', 'cz'], dtype='<U2')"
      ]
     },
     "execution_count": 198,
     "metadata": {},
     "output_type": "execute_result"
    }
   ],
   "source": [
    "# String operation - add same length arrays\n",
    "str_ar1 = np.array(['a','b','c'])\n",
    "str_ar2 = np.array(['x','y','z'])\n",
    "\n",
    "np.char.add(str_ar1,str_ar2)"
   ]
  },
  {
   "cell_type": "code",
   "execution_count": 199,
   "metadata": {
    "ExecuteTime": {
     "end_time": "2021-02-12T21:32:44.665417Z",
     "start_time": "2021-02-12T21:32:44.639492Z"
    }
   },
   "outputs": [
    {
     "ename": "ValueError",
     "evalue": "shape mismatch: objects cannot be broadcast to a single shape",
     "output_type": "error",
     "traceback": [
      "\u001b[1;31m---------------------------------------------------------------------------\u001b[0m",
      "\u001b[1;31mValueError\u001b[0m                                Traceback (most recent call last)",
      "\u001b[1;32m<ipython-input-199-f1ceaf5782c8>\u001b[0m in \u001b[0;36m<module>\u001b[1;34m\u001b[0m\n\u001b[0;32m      2\u001b[0m \u001b[0mstr_ar1\u001b[0m \u001b[1;33m=\u001b[0m \u001b[0mnp\u001b[0m\u001b[1;33m.\u001b[0m\u001b[0marray\u001b[0m\u001b[1;33m(\u001b[0m\u001b[1;33m[\u001b[0m\u001b[1;34m'a'\u001b[0m\u001b[1;33m,\u001b[0m\u001b[1;34m'b'\u001b[0m\u001b[1;33m,\u001b[0m\u001b[1;34m'c'\u001b[0m\u001b[1;33m]\u001b[0m\u001b[1;33m)\u001b[0m\u001b[1;33m\u001b[0m\u001b[1;33m\u001b[0m\u001b[0m\n\u001b[0;32m      3\u001b[0m \u001b[0mstr_ar2\u001b[0m \u001b[1;33m=\u001b[0m \u001b[0mnp\u001b[0m\u001b[1;33m.\u001b[0m\u001b[0marray\u001b[0m\u001b[1;33m(\u001b[0m\u001b[1;33m[\u001b[0m\u001b[1;34m'x'\u001b[0m\u001b[1;33m,\u001b[0m\u001b[1;34m'y'\u001b[0m\u001b[1;33m,\u001b[0m\u001b[1;34m'z'\u001b[0m\u001b[1;33m,\u001b[0m\u001b[1;34m'e'\u001b[0m\u001b[1;33m]\u001b[0m\u001b[1;33m)\u001b[0m\u001b[1;33m\u001b[0m\u001b[1;33m\u001b[0m\u001b[0m\n\u001b[1;32m----> 4\u001b[1;33m \u001b[0mnp\u001b[0m\u001b[1;33m.\u001b[0m\u001b[0mchar\u001b[0m\u001b[1;33m.\u001b[0m\u001b[0madd\u001b[0m\u001b[1;33m(\u001b[0m\u001b[0mstr_ar1\u001b[0m\u001b[1;33m,\u001b[0m\u001b[0mstr_ar2\u001b[0m\u001b[1;33m)\u001b[0m\u001b[1;33m\u001b[0m\u001b[1;33m\u001b[0m\u001b[0m\n\u001b[0m",
      "\u001b[1;32m<__array_function__ internals>\u001b[0m in \u001b[0;36madd\u001b[1;34m(*args, **kwargs)\u001b[0m\n",
      "\u001b[1;32m~\\anaconda3\\lib\\site-packages\\numpy\\core\\defchararray.py\u001b[0m in \u001b[0;36madd\u001b[1;34m(x1, x2)\u001b[0m\n\u001b[0;32m    314\u001b[0m     \u001b[0mout_size\u001b[0m \u001b[1;33m=\u001b[0m \u001b[0m_get_num_chars\u001b[0m\u001b[1;33m(\u001b[0m\u001b[0marr1\u001b[0m\u001b[1;33m)\u001b[0m \u001b[1;33m+\u001b[0m \u001b[0m_get_num_chars\u001b[0m\u001b[1;33m(\u001b[0m\u001b[0marr2\u001b[0m\u001b[1;33m)\u001b[0m\u001b[1;33m\u001b[0m\u001b[1;33m\u001b[0m\u001b[0m\n\u001b[0;32m    315\u001b[0m     \u001b[0mdtype\u001b[0m \u001b[1;33m=\u001b[0m \u001b[0m_use_unicode\u001b[0m\u001b[1;33m(\u001b[0m\u001b[0marr1\u001b[0m\u001b[1;33m,\u001b[0m \u001b[0marr2\u001b[0m\u001b[1;33m)\u001b[0m\u001b[1;33m\u001b[0m\u001b[1;33m\u001b[0m\u001b[0m\n\u001b[1;32m--> 316\u001b[1;33m     \u001b[1;32mreturn\u001b[0m \u001b[0m_vec_string\u001b[0m\u001b[1;33m(\u001b[0m\u001b[0marr1\u001b[0m\u001b[1;33m,\u001b[0m \u001b[1;33m(\u001b[0m\u001b[0mdtype\u001b[0m\u001b[1;33m,\u001b[0m \u001b[0mout_size\u001b[0m\u001b[1;33m)\u001b[0m\u001b[1;33m,\u001b[0m \u001b[1;34m'__add__'\u001b[0m\u001b[1;33m,\u001b[0m \u001b[1;33m(\u001b[0m\u001b[0marr2\u001b[0m\u001b[1;33m,\u001b[0m\u001b[1;33m)\u001b[0m\u001b[1;33m)\u001b[0m\u001b[1;33m\u001b[0m\u001b[1;33m\u001b[0m\u001b[0m\n\u001b[0m\u001b[0;32m    317\u001b[0m \u001b[1;33m\u001b[0m\u001b[0m\n\u001b[0;32m    318\u001b[0m \u001b[1;33m\u001b[0m\u001b[0m\n",
      "\u001b[1;31mValueError\u001b[0m: shape mismatch: objects cannot be broadcast to a single shape"
     ]
    }
   ],
   "source": [
    "#add different length arrays - itwill give erroe\n",
    "str_ar1 = np.array(['a','b','c'])\n",
    "str_ar2 = np.array(['x','y','z','e'])\n",
    "np.char.add(str_ar1,str_ar2)"
   ]
  },
  {
   "cell_type": "code",
   "execution_count": 200,
   "metadata": {
    "ExecuteTime": {
     "end_time": "2021-02-12T21:33:31.746287Z",
     "start_time": "2021-02-12T21:33:31.733323Z"
    }
   },
   "outputs": [
    {
     "data": {
      "text/plain": [
       "array(['aa', 'ba', 'ca'], dtype='<U2')"
      ]
     },
     "execution_count": 200,
     "metadata": {},
     "output_type": "execute_result"
    }
   ],
   "source": [
    "#\n",
    "str_ar1 = np.array(['a','b','c'])\n",
    "str_ar2 ='a'\n",
    "np.char.add(str_ar1,str_ar2)"
   ]
  },
  {
   "cell_type": "code",
   "execution_count": 201,
   "metadata": {
    "ExecuteTime": {
     "end_time": "2021-02-12T21:36:49.525116Z",
     "start_time": "2021-02-12T21:36:49.505169Z"
    }
   },
   "outputs": [
    {
     "data": {
      "text/plain": [
       "array(['aaa', 'bbb', 'ccc'], dtype='<U3')"
      ]
     },
     "execution_count": 201,
     "metadata": {},
     "output_type": "execute_result"
    }
   ],
   "source": [
    "# string multiplication\n",
    "str_ar1 = np.array(['a','b','c'])\n",
    "np.char.multiply(str_ar1,3)"
   ]
  },
  {
   "cell_type": "code",
   "execution_count": 202,
   "metadata": {
    "ExecuteTime": {
     "end_time": "2021-02-12T21:37:45.592846Z",
     "start_time": "2021-02-12T21:37:45.584868Z"
    }
   },
   "outputs": [
    {
     "data": {
      "text/plain": [
       "array('Learning ds', dtype='<U11')"
      ]
     },
     "execution_count": 202,
     "metadata": {},
     "output_type": "execute_result"
    }
   ],
   "source": [
    "# capitalization -------- it ll capitalise only 1st character\n",
    "np.char.capitalize(\"learning DS\")\n"
   ]
  },
  {
   "cell_type": "code",
   "execution_count": 204,
   "metadata": {
    "ExecuteTime": {
     "end_time": "2021-02-12T21:40:01.652644Z",
     "start_time": "2021-02-12T21:40:01.634693Z"
    }
   },
   "outputs": [
    {
     "data": {
      "text/plain": [
       "array(['Aaa', 'Bbb', 'Ccc'], dtype='<U3')"
      ]
     },
     "execution_count": 204,
     "metadata": {},
     "output_type": "execute_result"
    }
   ],
   "source": [
    "np.char.capitalize(np.char.multiply(str_ar1,3))"
   ]
  },
  {
   "cell_type": "code",
   "execution_count": 208,
   "metadata": {
    "ExecuteTime": {
     "end_time": "2021-02-12T21:42:03.434661Z",
     "start_time": "2021-02-12T21:42:03.416711Z"
    }
   },
   "outputs": [
    {
     "data": {
      "text/plain": [
       "array(['A', 'B', 'C'], dtype='<U1')"
      ]
     },
     "execution_count": 208,
     "metadata": {},
     "output_type": "execute_result"
    }
   ],
   "source": [
    "# lower to uper\n",
    "np.char.upper(str_ar1)"
   ]
  },
  {
   "cell_type": "code",
   "execution_count": 210,
   "metadata": {
    "ExecuteTime": {
     "end_time": "2021-02-12T21:43:00.227865Z",
     "start_time": "2021-02-12T21:43:00.209915Z"
    }
   },
   "outputs": [
    {
     "data": {
      "text/plain": [
       "array('mansi', dtype='<U5')"
      ]
     },
     "execution_count": 210,
     "metadata": {},
     "output_type": "execute_result"
    }
   ],
   "source": [
    "# uper to lower \n",
    "np.char.lower('MANSI')"
   ]
  },
  {
   "cell_type": "code",
   "execution_count": 214,
   "metadata": {
    "ExecuteTime": {
     "end_time": "2021-02-12T21:45:57.450847Z",
     "start_time": "2021-02-12T21:45:57.436884Z"
    }
   },
   "outputs": [
    {
     "name": "stdout",
     "output_type": "stream",
     "text": [
      "[' x ' ' y ' ' z ' '  ']\n",
      "['x' 'y' 'z' '']\n"
     ]
    }
   ],
   "source": [
    "# strip empty spaces\n",
    "str_ar3 = np.array([' x ',' y ',' z ','  '])\n",
    "print(str_ar3)\n",
    "print(np.char.strip(str_ar3))\n"
   ]
  },
  {
   "cell_type": "code",
   "execution_count": 215,
   "metadata": {
    "ExecuteTime": {
     "end_time": "2021-02-12T21:46:32.847889Z",
     "start_time": "2021-02-12T21:46:32.832891Z"
    }
   },
   "outputs": [
    {
     "data": {
      "text/plain": [
       "array([' a ', ' y ', ' z ', '  '], dtype='<U3')"
      ]
     },
     "execution_count": 215,
     "metadata": {},
     "output_type": "execute_result"
    }
   ],
   "source": [
    "# string operation - replace\n",
    "np.char.replace(str_ar3,'x','a')"
   ]
  },
  {
   "cell_type": "code",
   "execution_count": 217,
   "metadata": {
    "ExecuteTime": {
     "end_time": "2021-02-12T21:49:22.692889Z",
     "start_time": "2021-02-12T21:49:22.681930Z"
    }
   },
   "outputs": [
    {
     "name": "stdout",
     "output_type": "stream",
     "text": [
      "Addition: [5 7 9]\n",
      "Addition: [ 4 10 18]\n",
      "Addition: [-3 -3 -3]\n"
     ]
    }
   ],
   "source": [
    "# mathematical operation\n",
    "ar1 = np.array([1,2,3])\n",
    "ar2 = np.array([4,5,6])\n",
    "\n",
    "print(\"Addition:\",ar1+ar2)\n",
    "print(\"Addition:\",ar1*ar2)\n",
    "print(\"Addition:\",ar1-ar2)"
   ]
  },
  {
   "cell_type": "code",
   "execution_count": 221,
   "metadata": {
    "ExecuteTime": {
     "end_time": "2021-02-12T21:56:28.097887Z",
     "start_time": "2021-02-12T21:56:28.077516Z"
    }
   },
   "outputs": [
    {
     "name": "stdout",
     "output_type": "stream",
     "text": [
      "round-off: [2.33 0.   3.34 0.  ]\n",
      "Floor: [2. 0. 3. 0.]\n",
      "ceil: [3. 0. 4. 1.]\n"
     ]
    }
   ],
   "source": [
    "# round-off\n",
    "m_ar3 = np.array([2.3333,0,3.336,0.001])\n",
    "print(\"round-off:\",np.around(m_ar3,decimals=2))\n",
    "print(\"Floor:\",np.floor(m_ar3))\n",
    "print(\"ceil:\",np.ceil(m_ar3))"
   ]
  },
  {
   "cell_type": "code",
   "execution_count": 223,
   "metadata": {
    "ExecuteTime": {
     "end_time": "2021-02-12T21:58:22.950364Z",
     "start_time": "2021-02-12T21:58:22.930418Z"
    }
   },
   "outputs": [
    {
     "name": "stdout",
     "output_type": "stream",
     "text": [
      "[1 4 9]\n",
      "[  1  32 729]\n"
     ]
    }
   ],
   "source": [
    "# power\n",
    "ar1 = np.array([1,2,3])\n",
    "ar2 = np.array([4,5,6])\n",
    "print(np.power(ar1,2))\n",
    "print(np.power(ar1,ar2))"
   ]
  },
  {
   "cell_type": "code",
   "execution_count": 241,
   "metadata": {
    "ExecuteTime": {
     "end_time": "2021-02-12T22:09:43.611044Z",
     "start_time": "2021-02-12T22:09:43.592093Z"
    }
   },
   "outputs": [
    {
     "name": "stdout",
     "output_type": "stream",
     "text": [
      "Max: 9\n",
      "Min: 1\n"
     ]
    }
   ],
   "source": [
    "# stat operations\n",
    "ar4 = np.array([[4,5,6],[1,2,3],[7,8,9]])\n",
    "print(\"Max:\", np.amax(ar4))\n",
    "print(\"Min:\", np.amin(ar4))\n"
   ]
  },
  {
   "cell_type": "code",
   "execution_count": 239,
   "metadata": {
    "ExecuteTime": {
     "end_time": "2021-02-12T22:08:35.188063Z",
     "start_time": "2021-02-12T22:08:35.182056Z"
    }
   },
   "outputs": [
    {
     "name": "stdout",
     "output_type": "stream",
     "text": [
      "min is: [4 1 7]\n"
     ]
    }
   ],
   "source": [
    "# min max with axis\n",
    "\n",
    "print(\"min is:\",np.amin(ar4,1))"
   ]
  },
  {
   "cell_type": "code",
   "execution_count": 244,
   "metadata": {
    "ExecuteTime": {
     "end_time": "2021-02-12T22:10:57.400082Z",
     "start_time": "2021-02-12T22:10:57.385123Z"
    }
   },
   "outputs": [
    {
     "data": {
      "text/plain": [
       "array([5., 2., 8.])"
      ]
     },
     "execution_count": 244,
     "metadata": {},
     "output_type": "execute_result"
    }
   ],
   "source": [
    "# median\n",
    "np.median(ar4)\n",
    "np.median(ar4,1) -# for axis"
   ]
  },
  {
   "cell_type": "code",
   "execution_count": 251,
   "metadata": {
    "ExecuteTime": {
     "end_time": "2021-02-12T22:14:38.008876Z",
     "start_time": "2021-02-12T22:14:37.987946Z"
    }
   },
   "outputs": [
    {
     "name": "stdout",
     "output_type": "stream",
     "text": [
      "average: [4. 5. 6.]\n",
      "Mean: [4. 5. 6.]\n",
      "Variance: [0.66666667 0.66666667 0.66666667]\n"
     ]
    }
   ],
   "source": [
    "# average , mean and variance\n",
    "print(\"average:\",np.average(ar4,0))\n",
    "print(\"Mean:\",np.mean(ar4,0))\n",
    "print(\"Variance:\",np.var(ar4,1))"
   ]
  },
  {
   "cell_type": "code",
   "execution_count": 252,
   "metadata": {
    "ExecuteTime": {
     "end_time": "2021-02-12T22:15:13.688098Z",
     "start_time": "2021-02-12T22:15:13.679113Z"
    }
   },
   "outputs": [
    {
     "data": {
      "text/plain": [
       "array([5.2, 6.2, 7.2])"
      ]
     },
     "execution_count": 252,
     "metadata": {},
     "output_type": "execute_result"
    }
   ],
   "source": [
    "# percentile\n",
    "np.percentile(ar4,70,axis=0)"
   ]
  },
  {
   "cell_type": "markdown",
   "metadata": {},
   "source": [
    "# Sort,search,filter"
   ]
  },
  {
   "cell_type": "code",
   "execution_count": null,
   "metadata": {},
   "outputs": [],
   "source": [
    "import numpy as np "
   ]
  },
  {
   "cell_type": "code",
   "execution_count": 260,
   "metadata": {
    "ExecuteTime": {
     "end_time": "2021-02-12T22:21:55.926535Z",
     "start_time": "2021-02-12T22:21:55.906589Z"
    }
   },
   "outputs": [
    {
     "name": "stdout",
     "output_type": "stream",
     "text": [
      "[41 24 18 18  0 31  4 14 10 19]\n",
      "[ 0  4 10 14 18 18 19 24 31 41]\n"
     ]
    }
   ],
   "source": [
    "# sort 1d array\n",
    "ar1 = np.random.randint(50,size=10)\n",
    "print(ar1)\n",
    "print(np.sort(ar1))"
   ]
  },
  {
   "cell_type": "code",
   "execution_count": 261,
   "metadata": {
    "ExecuteTime": {
     "end_time": "2021-02-12T22:22:03.418246Z",
     "start_time": "2021-02-12T22:22:03.411265Z"
    }
   },
   "outputs": [
    {
     "data": {
      "text/plain": [
       "array([41, 31, 24, 19, 18, 18, 14, 10,  4,  0])"
      ]
     },
     "execution_count": 261,
     "metadata": {},
     "output_type": "execute_result"
    }
   ],
   "source": [
    "# to reverse order\n",
    "np.sort(ar1)[::-1]"
   ]
  },
  {
   "cell_type": "code",
   "execution_count": 264,
   "metadata": {
    "ExecuteTime": {
     "end_time": "2021-02-12T22:23:44.490446Z",
     "start_time": "2021-02-12T22:23:44.468515Z"
    }
   },
   "outputs": [
    {
     "data": {
      "text/plain": [
       "array(['a', 'aa', 'ab', 'b', 'c', 'x'], dtype='<U2')"
      ]
     },
     "execution_count": 264,
     "metadata": {},
     "output_type": "execute_result"
    }
   ],
   "source": [
    "# sort string array\n",
    "str_ar1= np.array(['x','b','c','ab','aa','a'])\n",
    "np.sort(str_ar1)"
   ]
  },
  {
   "cell_type": "code",
   "execution_count": 268,
   "metadata": {
    "ExecuteTime": {
     "end_time": "2021-02-12T22:27:46.395281Z",
     "start_time": "2021-02-12T22:27:46.389297Z"
    }
   },
   "outputs": [
    {
     "name": "stdout",
     "output_type": "stream",
     "text": [
      "[[11  2  3 33]\n",
      " [24 55 22  6]\n",
      " [12  2 45  3]]\n",
      "[[ 2  3 11 33]\n",
      " [ 6 22 24 55]\n",
      " [ 2  3 12 45]]\n"
     ]
    }
   ],
   "source": [
    "# sorting 2d array\n",
    "ar_2d = np.array([[11,2,3,33],[24,55,22,6],[12,2,45,3]])\n",
    "print(ar_2d)\n",
    "print(np.sort(ar_2d))"
   ]
  },
  {
   "cell_type": "code",
   "execution_count": 271,
   "metadata": {
    "ExecuteTime": {
     "end_time": "2021-02-12T22:29:11.321268Z",
     "start_time": "2021-02-12T22:29:11.314286Z"
    }
   },
   "outputs": [
    {
     "name": "stdout",
     "output_type": "stream",
     "text": [
      "[[11  2  3  3]\n",
      " [12  2 22  6]\n",
      " [24 55 45 33]]\n"
     ]
    }
   ],
   "source": [
    "# sorting 2d array with axis\n",
    "print(np.sort(ar_2d,axis=0)) # column wise\n"
   ]
  },
  {
   "cell_type": "code",
   "execution_count": 272,
   "metadata": {
    "ExecuteTime": {
     "end_time": "2021-02-12T22:30:05.506380Z",
     "start_time": "2021-02-12T22:30:05.486434Z"
    }
   },
   "outputs": [
    {
     "name": "stdout",
     "output_type": "stream",
     "text": [
      "[[11  2  3  3]\n",
      " [12  2 22  6]\n",
      " [24 55 45 33]]\n"
     ]
    }
   ],
   "source": [
    "print(np.sort(ar_2d,axis=0,kind = 'mergesort')) "
   ]
  },
  {
   "cell_type": "code",
   "execution_count": 273,
   "metadata": {
    "ExecuteTime": {
     "end_time": "2021-02-12T22:30:41.169300Z",
     "start_time": "2021-02-12T22:30:41.161323Z"
    }
   },
   "outputs": [
    {
     "name": "stdout",
     "output_type": "stream",
     "text": [
      "[[11  2  3  3]\n",
      " [12  2 22  6]\n",
      " [24 55 45 33]]\n"
     ]
    }
   ],
   "source": [
    "print(np.msort(ar_2d)) # sort based on first axis"
   ]
  },
  {
   "cell_type": "code",
   "execution_count": null,
   "metadata": {
    "ExecuteTime": {
     "end_time": "2021-02-12T22:33:53.108311Z",
     "start_time": "2021-02-12T22:33:53.089363Z"
    }
   },
   "outputs": [],
   "source": [
    "# search ***********"
   ]
  },
  {
   "cell_type": "code",
   "execution_count": 280,
   "metadata": {
    "ExecuteTime": {
     "end_time": "2021-02-12T22:33:32.803470Z",
     "start_time": "2021-02-12T22:33:32.784486Z"
    }
   },
   "outputs": [
    {
     "name": "stdout",
     "output_type": "stream",
     "text": [
      "[30  8 21  5 23 15 30 11 27 35]\n"
     ]
    },
    {
     "data": {
      "text/plain": [
       "(array([2], dtype=int64),)"
      ]
     },
     "execution_count": 280,
     "metadata": {},
     "output_type": "execute_result"
    }
   ],
   "source": [
    "ar1 = np.random.randint(40,size=10)\n",
    "ar2 = np.array([1,2,4,5,6])\n",
    "print(ar1)\n",
    "np.where(ar2==4)"
   ]
  },
  {
   "cell_type": "code",
   "execution_count": 282,
   "metadata": {
    "ExecuteTime": {
     "end_time": "2021-02-12T22:34:51.216448Z",
     "start_time": "2021-02-12T22:34:51.202487Z"
    }
   },
   "outputs": [
    {
     "data": {
      "text/plain": [
       "(array([1, 2, 4], dtype=int64),)"
      ]
     },
     "execution_count": 282,
     "metadata": {},
     "output_type": "execute_result"
    }
   ],
   "source": [
    "# search position meeting criteria\n",
    "np.where(ar2%2 ==0)"
   ]
  },
  {
   "cell_type": "code",
   "execution_count": 283,
   "metadata": {
    "ExecuteTime": {
     "end_time": "2021-02-12T22:36:34.163131Z",
     "start_time": "2021-02-12T22:36:34.140193Z"
    }
   },
   "outputs": [
    {
     "data": {
      "text/plain": [
       "array([30,  8, 30])"
      ]
     },
     "execution_count": 283,
     "metadata": {},
     "output_type": "execute_result"
    }
   ],
   "source": [
    "# to extract elements satisfying condition\n",
    "np.extract(ar1%2==0,ar1)"
   ]
  },
  {
   "cell_type": "code",
   "execution_count": 295,
   "metadata": {
    "ExecuteTime": {
     "end_time": "2021-02-12T22:42:16.624166Z",
     "start_time": "2021-02-12T22:42:16.610207Z"
    }
   },
   "outputs": [
    {
     "name": "stdout",
     "output_type": "stream",
     "text": [
      "[ 5  8 11 15 21 23 27 30 30 35]\n",
      "8\n"
     ]
    }
   ],
   "source": [
    "# where to insert the new value to retain the sort order\n",
    "print(np.sort(ar1))\n",
    "print(np.searchsorted(ar1,22))\n"
   ]
  },
  {
   "cell_type": "code",
   "execution_count": 296,
   "metadata": {
    "ExecuteTime": {
     "end_time": "2021-02-12T22:43:38.950074Z",
     "start_time": "2021-02-12T22:43:38.939104Z"
    }
   },
   "outputs": [
    {
     "name": "stdout",
     "output_type": "stream",
     "text": [
      "[ 0 10  8]\n"
     ]
    }
   ],
   "source": [
    "# insert multiple values\n",
    "print(np.searchsorted(ar1,[2,44,22]))"
   ]
  },
  {
   "cell_type": "code",
   "execution_count": 297,
   "metadata": {
    "ExecuteTime": {
     "end_time": "2021-02-12T22:44:39.145456Z",
     "start_time": "2021-02-12T22:44:39.123516Z"
    }
   },
   "outputs": [
    {
     "data": {
      "text/plain": [
       "3"
      ]
     },
     "execution_count": 297,
     "metadata": {},
     "output_type": "execute_result"
    }
   ],
   "source": [
    "#**************************** positions of value****************\n",
    "# find position of min and max values\n",
    "np.argmin(ar1)"
   ]
  },
  {
   "cell_type": "code",
   "execution_count": 302,
   "metadata": {
    "ExecuteTime": {
     "end_time": "2021-02-12T22:50:26.775361Z",
     "start_time": "2021-02-12T22:50:26.756410Z"
    }
   },
   "outputs": [
    {
     "name": "stdout",
     "output_type": "stream",
     "text": [
      "[[11  2  3 33]\n",
      " [24 55 22  1]\n",
      " [12  2 45  3]]\n",
      "position of min value: 7\n",
      "position of min value by rows: [1 3 1]\n",
      "position of min value by columns: [0 0 0 1]\n",
      "position of max value by columns: [1 1 2 0]\n"
     ]
    }
   ],
   "source": [
    "# 2d array -- return positions\n",
    "ar_2d = np.array([[11,2,3,33],[24,55,22,1],[12,2,45,3]])\n",
    "print(ar_2d)\n",
    "print('position of min value:',np.argmin(ar_2d))\n",
    "print('position of min value by rows:',np.argmin(ar_2d,axis=1))\n",
    "print('position of min value by columns:',np.argmin(ar_2d,axis=0))\n",
    "\n",
    "# max values\n",
    "print('position of max value by columns:',np.argmax(ar_2d,axis=0))\n"
   ]
  },
  {
   "cell_type": "code",
   "execution_count": 311,
   "metadata": {
    "ExecuteTime": {
     "end_time": "2021-02-12T22:58:52.649911Z",
     "start_time": "2021-02-12T22:58:52.632959Z"
    }
   },
   "outputs": [
    {
     "name": "stdout",
     "output_type": "stream",
     "text": [
      "[33 24 22]\n"
     ]
    }
   ],
   "source": [
    "# ****************filter *******************\n",
    "ar_2d = np.array([[11,2,3,33],[24,55,22,1],[12,2,45,3]])\n",
    "#condition = ar_2d>20 | ar_2d<45 \n",
    "\n",
    "filterd_ar = ar_2d[(ar_2d>20) & (ar_2d<45)]\n",
    "print(filterd_ar)"
   ]
  },
  {
   "cell_type": "code",
   "execution_count": 312,
   "metadata": {
    "ExecuteTime": {
     "end_time": "2021-02-12T22:59:59.883971Z",
     "start_time": "2021-02-12T22:59:59.874994Z"
    }
   },
   "outputs": [
    {
     "data": {
      "text/plain": [
       "True"
      ]
     },
     "execution_count": 312,
     "metadata": {},
     "output_type": "execute_result"
    }
   ],
   "source": [
    "# ******************************************any / all******************\n",
    "# are there any values greater than 9?\n",
    "np.any(ar_2d>9)"
   ]
  },
  {
   "cell_type": "code",
   "execution_count": 313,
   "metadata": {
    "ExecuteTime": {
     "end_time": "2021-02-12T23:00:14.259496Z",
     "start_time": "2021-02-12T23:00:14.253511Z"
    }
   },
   "outputs": [
    {
     "data": {
      "text/plain": [
       "False"
      ]
     },
     "execution_count": 313,
     "metadata": {},
     "output_type": "execute_result"
    }
   ],
   "source": [
    "# are all values equal to 6?\n",
    "np.all(x == 6)"
   ]
  },
  {
   "cell_type": "code",
   "execution_count": null,
   "metadata": {},
   "outputs": [],
   "source": []
  }
 ],
 "metadata": {
  "kernelspec": {
   "display_name": "Python 3",
   "language": "python",
   "name": "python3"
  },
  "language_info": {
   "codemirror_mode": {
    "name": "ipython",
    "version": 3
   },
   "file_extension": ".py",
   "mimetype": "text/x-python",
   "name": "python",
   "nbconvert_exporter": "python",
   "pygments_lexer": "ipython3",
   "version": "3.7.6"
  }
 },
 "nbformat": 4,
 "nbformat_minor": 4
}
