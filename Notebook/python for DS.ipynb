{
 "cells": [
  {
   "cell_type": "markdown",
   "metadata": {},
   "source": [
    "# [List] ----- (Tuple) ----- {Dictionaries} "
   ]
  },
  {
   "cell_type": "code",
   "execution_count": 18,
   "metadata": {
    "ExecuteTime": {
     "end_time": "2021-02-10T13:32:23.385564Z",
     "start_time": "2021-02-10T13:32:23.365594Z"
    }
   },
   "outputs": [
    {
     "data": {
      "text/plain": [
       "list"
      ]
     },
     "execution_count": 18,
     "metadata": {},
     "output_type": "execute_result"
    }
   ],
   "source": [
    "compnies = [\"apple\",'facebook','google','amazon']\n",
    "type(compnies) # checking datatype"
   ]
  },
  {
   "cell_type": "code",
   "execution_count": 19,
   "metadata": {
    "ExecuteTime": {
     "end_time": "2021-02-10T13:32:24.022963Z",
     "start_time": "2021-02-10T13:32:24.012993Z"
    }
   },
   "outputs": [
    {
     "name": "stdout",
     "output_type": "stream",
     "text": [
      "google\n"
     ]
    }
   ],
   "source": [
    "print(compnies[2])"
   ]
  },
  {
   "cell_type": "code",
   "execution_count": 20,
   "metadata": {
    "ExecuteTime": {
     "end_time": "2021-02-10T13:32:24.972658Z",
     "start_time": "2021-02-10T13:32:24.960691Z"
    }
   },
   "outputs": [],
   "source": [
    "compnies.append(\"tesla\")"
   ]
  },
  {
   "cell_type": "code",
   "execution_count": 21,
   "metadata": {
    "ExecuteTime": {
     "end_time": "2021-02-10T13:32:25.856902Z",
     "start_time": "2021-02-10T13:32:25.848927Z"
    }
   },
   "outputs": [
    {
     "data": {
      "text/plain": [
       "['apple', 'facebook', 'google', 'amazon', 'tesla']"
      ]
     },
     "execution_count": 21,
     "metadata": {},
     "output_type": "execute_result"
    }
   ],
   "source": [
    "compnies\n"
   ]
  },
  {
   "cell_type": "code",
   "execution_count": 22,
   "metadata": {
    "ExecuteTime": {
     "end_time": "2021-02-10T13:32:26.482222Z",
     "start_time": "2021-02-10T13:32:26.460268Z"
    }
   },
   "outputs": [
    {
     "data": {
      "text/plain": [
       "['apple', 'facebook', 'Microsoft', 'google', 'amazon', 'tesla']"
      ]
     },
     "execution_count": 22,
     "metadata": {},
     "output_type": "execute_result"
    }
   ],
   "source": [
    "compnies.insert(2,'Microsoft')\n",
    "compnies"
   ]
  },
  {
   "cell_type": "markdown",
   "metadata": {},
   "source": [
    "# remove , delete and pop"
   ]
  },
  {
   "cell_type": "code",
   "execution_count": 23,
   "metadata": {
    "ExecuteTime": {
     "end_time": "2021-02-10T13:32:33.627196Z",
     "start_time": "2021-02-10T13:32:33.619221Z"
    }
   },
   "outputs": [
    {
     "data": {
      "text/plain": [
       "['apple', 'facebook', 'Microsoft', 'google', 'amazon']"
      ]
     },
     "execution_count": 23,
     "metadata": {},
     "output_type": "execute_result"
    }
   ],
   "source": [
    "compnies.remove('tesla')\n",
    "compnies"
   ]
  },
  {
   "cell_type": "code",
   "execution_count": 24,
   "metadata": {
    "ExecuteTime": {
     "end_time": "2021-02-10T13:32:40.806902Z",
     "start_time": "2021-02-10T13:32:40.792940Z"
    }
   },
   "outputs": [
    {
     "name": "stdout",
     "output_type": "stream",
     "text": [
      "['apple', 'facebook', 'Microsoft', 'google', 'amazon', 'tesla']\n"
     ]
    }
   ],
   "source": [
    "compnies.append('tesla')\n",
    "print(compnies)"
   ]
  },
  {
   "cell_type": "code",
   "execution_count": 25,
   "metadata": {
    "ExecuteTime": {
     "end_time": "2021-02-10T13:33:17.177137Z",
     "start_time": "2021-02-10T13:33:17.163217Z"
    }
   },
   "outputs": [
    {
     "name": "stdout",
     "output_type": "stream",
     "text": [
      "['apple', 'facebook', 'Microsoft', 'google', 'amazon', 'tesla', 'tesla', 'tesla']\n"
     ]
    }
   ],
   "source": [
    "compnies.append('tesla')\n",
    "compnies.append('tesla')\n",
    "print(compnies)\n"
   ]
  },
  {
   "cell_type": "code",
   "execution_count": 27,
   "metadata": {
    "ExecuteTime": {
     "end_time": "2021-02-10T13:34:10.527753Z",
     "start_time": "2021-02-10T13:34:10.508192Z"
    }
   },
   "outputs": [
    {
     "name": "stdout",
     "output_type": "stream",
     "text": [
      "['apple', 'facebook', 'Microsoft', 'google', 'amazon', 'tesla', 'tesla']\n"
     ]
    }
   ],
   "source": [
    "compnies.remove('tesla')\n",
    "print(compnies)"
   ]
  },
  {
   "cell_type": "code",
   "execution_count": 30,
   "metadata": {
    "ExecuteTime": {
     "end_time": "2021-02-10T13:35:22.884011Z",
     "start_time": "2021-02-10T13:35:22.864069Z"
    }
   },
   "outputs": [
    {
     "name": "stdout",
     "output_type": "stream",
     "text": [
      "['apple', 'facebook', 'Microsoft', 'google', 'amazon', 'tesla', 'adobe', 'adobe', 'adobe', 'tesla']\n"
     ]
    }
   ],
   "source": [
    "compnies.insert(6,'adobe')\n",
    "print(compnies)"
   ]
  },
  {
   "cell_type": "code",
   "execution_count": 31,
   "metadata": {
    "ExecuteTime": {
     "end_time": "2021-02-10T13:35:43.248602Z",
     "start_time": "2021-02-10T13:35:43.231649Z"
    }
   },
   "outputs": [
    {
     "name": "stdout",
     "output_type": "stream",
     "text": [
      "['apple', 'facebook', 'Microsoft', 'google', 'amazon', 'adobe', 'adobe', 'adobe', 'tesla']\n"
     ]
    }
   ],
   "source": [
    "compnies.remove('tesla')\n",
    "print(compnies)"
   ]
  },
  {
   "cell_type": "code",
   "execution_count": 34,
   "metadata": {
    "ExecuteTime": {
     "end_time": "2021-02-10T13:49:42.726745Z",
     "start_time": "2021-02-10T13:49:42.706799Z"
    }
   },
   "outputs": [],
   "source": [
    "del compnies[5]"
   ]
  },
  {
   "cell_type": "code",
   "execution_count": 35,
   "metadata": {
    "ExecuteTime": {
     "end_time": "2021-02-10T13:49:45.436404Z",
     "start_time": "2021-02-10T13:49:45.423435Z"
    }
   },
   "outputs": [
    {
     "data": {
      "text/plain": [
       "['apple', 'facebook', 'Microsoft', 'amazon', 'adobe', 'adobe', 'tesla']"
      ]
     },
     "execution_count": 35,
     "metadata": {},
     "output_type": "execute_result"
    }
   ],
   "source": [
    "compnies"
   ]
  },
  {
   "cell_type": "code",
   "execution_count": 36,
   "metadata": {
    "ExecuteTime": {
     "end_time": "2021-02-10T13:50:05.977793Z",
     "start_time": "2021-02-10T13:50:05.962834Z"
    }
   },
   "outputs": [
    {
     "data": {
      "text/plain": [
       "['apple', 'facebook', 'Microsoft', 'amazon', 'adobe', 'adobe']"
      ]
     },
     "execution_count": 36,
     "metadata": {},
     "output_type": "execute_result"
    }
   ],
   "source": [
    "compnies.pop()# ll delete from last position\n",
    "compnies"
   ]
  },
  {
   "cell_type": "code",
   "execution_count": 37,
   "metadata": {
    "ExecuteTime": {
     "end_time": "2021-02-10T13:51:36.366313Z",
     "start_time": "2021-02-10T13:51:36.357336Z"
    }
   },
   "outputs": [],
   "source": [
    "# copying list - 2 ways\n",
    "compnies1 = compnies # way1\n",
    "compnies2 = compnies.copy() # its always better to use copy"
   ]
  },
  {
   "cell_type": "code",
   "execution_count": 38,
   "metadata": {
    "ExecuteTime": {
     "end_time": "2021-02-10T13:53:28.550340Z",
     "start_time": "2021-02-10T13:53:28.528396Z"
    }
   },
   "outputs": [
    {
     "name": "stdout",
     "output_type": "stream",
     "text": [
      "True\n",
      "False\n"
     ]
    }
   ],
   "source": [
    "print(compnies1 is compnies)\n",
    "print(compnies2 is compnies)"
   ]
  },
  {
   "cell_type": "code",
   "execution_count": 40,
   "metadata": {
    "ExecuteTime": {
     "end_time": "2021-02-10T13:59:29.886946Z",
     "start_time": "2021-02-10T13:59:29.879964Z"
    }
   },
   "outputs": [
    {
     "name": "stdout",
     "output_type": "stream",
     "text": [
      "['apple', 'facebook', 'Microsoft', 'amazon', 'adobe', 'adobe', 'xzoom']\n",
      "['apple', 'facebook', 'Microsoft', 'amazon', 'adobe', 'adobe', 'xzoom']\n",
      "['apple', 'facebook', 'Microsoft', 'amazon', 'adobe', 'adobe']\n"
     ]
    }
   ],
   "source": [
    "compnies.append('xzoom')\n",
    "print(compnies)\n",
    "print(compnies1)\n",
    "print(compnies2)"
   ]
  },
  {
   "cell_type": "code",
   "execution_count": 44,
   "metadata": {
    "ExecuteTime": {
     "end_time": "2021-02-10T14:03:06.320916Z",
     "start_time": "2021-02-10T14:03:06.298980Z"
    }
   },
   "outputs": [
    {
     "data": {
      "text/plain": [
       "['apple',\n",
       " 'facebook',\n",
       " 'Microsoft',\n",
       " 'amazon',\n",
       " 'adobe',\n",
       " 'adobe',\n",
       " 'xzoom',\n",
       " 'apple',\n",
       " 'facebook',\n",
       " 'Microsoft',\n",
       " 'amazon',\n",
       " 'adobe',\n",
       " 'adobe']"
      ]
     },
     "execution_count": 44,
     "metadata": {},
     "output_type": "execute_result"
    }
   ],
   "source": [
    "# combine list\n",
    "compnies3 = compnies1 + compnies2\n",
    "compnies3"
   ]
  },
  {
   "cell_type": "code",
   "execution_count": 49,
   "metadata": {
    "ExecuteTime": {
     "end_time": "2021-02-10T14:10:24.263764Z",
     "start_time": "2021-02-10T14:10:24.245814Z"
    }
   },
   "outputs": [
    {
     "data": {
      "text/plain": [
       "['apple',\n",
       " 'facebook',\n",
       " 'Microsoft',\n",
       " 'amazon',\n",
       " 'adobe',\n",
       " 'adobe',\n",
       " 'xzoom',\n",
       " 'apple',\n",
       " 'facebook',\n",
       " 'Microsoft',\n",
       " 'amazon',\n",
       " 'adobe',\n",
       " 'adobe',\n",
       " 1,\n",
       " 'Hi',\n",
       " True]"
      ]
     },
     "execution_count": 49,
     "metadata": {},
     "output_type": "execute_result"
    }
   ],
   "source": [
    "# checking adding directly numeric and string value to list\n",
    "#compnies4 = compnies1 + compnies2 +1  # it will give error\n",
    "#compnies4 = compnies1 + compnies2 + 'Hi'  # it will give error\n",
    "compnies4 = compnies1 + compnies2 + [1,'Hi',True]  # we an combine only through list\n",
    "compnies4"
   ]
  },
  {
   "cell_type": "code",
   "execution_count": 53,
   "metadata": {
    "ExecuteTime": {
     "end_time": "2021-02-10T14:12:55.752730Z",
     "start_time": "2021-02-10T14:12:55.731786Z"
    }
   },
   "outputs": [
    {
     "data": {
      "text/plain": [
       "['Microsoft', 'adobe', 'adobe', 'amazon', 'apple', 'facebook', 'xzoom']"
      ]
     },
     "execution_count": 53,
     "metadata": {},
     "output_type": "execute_result"
    }
   ],
   "source": [
    "# sorting \n",
    "#sorted(compnies4) # it will give error as in this int and str values are mixed\n",
    "sorted(compnies)"
   ]
  },
  {
   "cell_type": "code",
   "execution_count": 54,
   "metadata": {
    "ExecuteTime": {
     "end_time": "2021-02-10T14:13:58.743454Z",
     "start_time": "2021-02-10T14:13:58.725488Z"
    }
   },
   "outputs": [],
   "source": [
    "# clearing the list\n",
    "compnies4.clear()"
   ]
  },
  {
   "cell_type": "code",
   "execution_count": 55,
   "metadata": {
    "ExecuteTime": {
     "end_time": "2021-02-10T14:14:07.437960Z",
     "start_time": "2021-02-10T14:14:07.430975Z"
    }
   },
   "outputs": [
    {
     "data": {
      "text/plain": [
       "[]"
      ]
     },
     "execution_count": 55,
     "metadata": {},
     "output_type": "execute_result"
    }
   ],
   "source": [
    "compnies4"
   ]
  },
  {
   "cell_type": "code",
   "execution_count": 56,
   "metadata": {
    "ExecuteTime": {
     "end_time": "2021-02-10T14:15:06.065500Z",
     "start_time": "2021-02-10T14:15:06.044557Z"
    }
   },
   "outputs": [
    {
     "data": {
      "text/plain": [
       "['apple',\n",
       " 'facebook',\n",
       " 'Microsoft',\n",
       " 'amazon',\n",
       " 'adobe',\n",
       " 'adobe',\n",
       " 'xzoom',\n",
       " 'apple',\n",
       " 'facebook',\n",
       " 'Microsoft',\n",
       " 'amazon',\n",
       " 'adobe',\n",
       " 'adobe',\n",
       " 'xzoom']"
      ]
     },
     "execution_count": 56,
     "metadata": {},
     "output_type": "execute_result"
    }
   ],
   "source": [
    "# other operations\n",
    "# --- multiplication with some number ..\n",
    "compnies*2 # it will print twice"
   ]
  },
  {
   "cell_type": "code",
   "execution_count": 68,
   "metadata": {
    "ExecuteTime": {
     "end_time": "2021-02-10T14:18:14.208183Z",
     "start_time": "2021-02-10T14:18:14.186226Z"
    }
   },
   "outputs": [
    {
     "ename": "TypeError",
     "evalue": "'<' not supported between instances of 'str' and 'int'",
     "output_type": "error",
     "traceback": [
      "\u001b[1;31m---------------------------------------------------------------------------\u001b[0m",
      "\u001b[1;31mTypeError\u001b[0m                                 Traceback (most recent call last)",
      "\u001b[1;32m<ipython-input-68-27e2797d32b1>\u001b[0m in \u001b[0;36m<module>\u001b[1;34m\u001b[0m\n\u001b[0;32m      1\u001b[0m \u001b[0ml1\u001b[0m \u001b[1;33m=\u001b[0m \u001b[1;33m[\u001b[0m\u001b[1;36m1\u001b[0m\u001b[1;33m,\u001b[0m\u001b[1;36m2\u001b[0m\u001b[1;33m,\u001b[0m\u001b[1;36m3\u001b[0m\u001b[1;33m,\u001b[0m\u001b[1;34m'ABC'\u001b[0m\u001b[1;33m]\u001b[0m\u001b[1;33m\u001b[0m\u001b[1;33m\u001b[0m\u001b[0m\n\u001b[0;32m      2\u001b[0m \u001b[0ml1\u001b[0m\u001b[1;33m*\u001b[0m\u001b[1;36m3\u001b[0m \u001b[1;31m# it will print list 3 times\u001b[0m\u001b[1;33m\u001b[0m\u001b[1;33m\u001b[0m\u001b[0m\n\u001b[1;32m----> 3\u001b[1;33m \u001b[0mmin\u001b[0m\u001b[1;33m(\u001b[0m\u001b[0ml1\u001b[0m\u001b[1;33m)\u001b[0m\u001b[1;33m\u001b[0m\u001b[1;33m\u001b[0m\u001b[0m\n\u001b[0m",
      "\u001b[1;31mTypeError\u001b[0m: '<' not supported between instances of 'str' and 'int'"
     ]
    }
   ],
   "source": [
    "l1 = [1,2,3,]\n",
    "l1*3 # it will print list 3 times\n"
   ]
  },
  {
   "cell_type": "code",
   "execution_count": 62,
   "metadata": {
    "ExecuteTime": {
     "end_time": "2021-02-10T14:17:21.439628Z",
     "start_time": "2021-02-10T14:17:21.433647Z"
    }
   },
   "outputs": [],
   "source": [
    "compnies.append('Abc')"
   ]
  },
  {
   "cell_type": "code",
   "execution_count": 65,
   "metadata": {
    "ExecuteTime": {
     "end_time": "2021-02-10T14:17:47.070847Z",
     "start_time": "2021-02-10T14:17:47.057885Z"
    }
   },
   "outputs": [
    {
     "data": {
      "text/plain": [
       "'xzoom'"
      ]
     },
     "execution_count": 65,
     "metadata": {},
     "output_type": "execute_result"
    }
   ],
   "source": [
    "# min and max  - it will give answer based on sorted order and capital letters first\n",
    "print(max(compnies))\n",
    "print(min(compnies))"
   ]
  },
  {
   "cell_type": "code",
   "execution_count": 97,
   "metadata": {
    "ExecuteTime": {
     "end_time": "2021-02-10T15:10:36.737912Z",
     "start_time": "2021-02-10T15:10:36.714977Z"
    }
   },
   "outputs": [
    {
     "data": {
      "text/plain": [
       "{'name': 'Apple', 'traded': 'AAPL', 'year': 1999}"
      ]
     },
     "execution_count": 97,
     "metadata": {},
     "output_type": "execute_result"
    }
   ],
   "source": [
    "#****************** dictionary\n",
    "\n",
    "apple_dic = {\n",
    "    'name':'Apple',\n",
    "    'traded':'AAPL',\n",
    "    'year':1999\n",
    "}\n",
    "apple_dic"
   ]
  },
  {
   "cell_type": "code",
   "execution_count": 98,
   "metadata": {
    "ExecuteTime": {
     "end_time": "2021-02-10T15:10:37.209210Z",
     "start_time": "2021-02-10T15:10:37.196244Z"
    }
   },
   "outputs": [
    {
     "name": "stdout",
     "output_type": "stream",
     "text": [
      "Apple\n",
      "1999\n"
     ]
    }
   ],
   "source": [
    "# reading value of key\n",
    "print(apple_dic['name'])\n",
    "print(apple_dic.get('year'))"
   ]
  },
  {
   "cell_type": "code",
   "execution_count": 99,
   "metadata": {
    "ExecuteTime": {
     "end_time": "2021-02-10T15:10:37.675664Z",
     "start_time": "2021-02-10T15:10:37.658676Z"
    }
   },
   "outputs": [],
   "source": [
    "# adding new key n value\n",
    "apple_dic['founder']=[\"steve jobs\",'ronald wayne','Steve wozniak']\n"
   ]
  },
  {
   "cell_type": "code",
   "execution_count": 100,
   "metadata": {
    "ExecuteTime": {
     "end_time": "2021-02-10T15:10:38.052316Z",
     "start_time": "2021-02-10T15:10:38.044340Z"
    }
   },
   "outputs": [
    {
     "data": {
      "text/plain": [
       "{'name': 'Apple',\n",
       " 'traded': 'AAPL',\n",
       " 'year': 1999,\n",
       " 'founder': ['steve jobs', 'ronald wayne', 'Steve wozniak']}"
      ]
     },
     "execution_count": 100,
     "metadata": {},
     "output_type": "execute_result"
    }
   ],
   "source": [
    "apple_dic"
   ]
  },
  {
   "cell_type": "code",
   "execution_count": 101,
   "metadata": {
    "ExecuteTime": {
     "end_time": "2021-02-10T15:10:38.552276Z",
     "start_time": "2021-02-10T15:10:38.536317Z"
    }
   },
   "outputs": [
    {
     "data": {
      "text/plain": [
       "{'name': 'Apple', 'traded': 'AAPL', 'year': 1999}"
      ]
     },
     "execution_count": 101,
     "metadata": {},
     "output_type": "execute_result"
    }
   ],
   "source": [
    "# remove item \n",
    "apple_dic.popitem()\n",
    "apple_dic"
   ]
  },
  {
   "cell_type": "code",
   "execution_count": 102,
   "metadata": {
    "ExecuteTime": {
     "end_time": "2021-02-10T15:10:39.023054Z",
     "start_time": "2021-02-10T15:10:39.002059Z"
    }
   },
   "outputs": [
    {
     "data": {
      "text/plain": [
       "{'name': 'Apple', 'traded': 'AAPL'}"
      ]
     },
     "execution_count": 102,
     "metadata": {},
     "output_type": "execute_result"
    }
   ],
   "source": [
    "apple_dic.pop('year')\n",
    "apple_dic"
   ]
  },
  {
   "cell_type": "code",
   "execution_count": 103,
   "metadata": {
    "ExecuteTime": {
     "end_time": "2021-02-10T15:10:39.495212Z",
     "start_time": "2021-02-10T15:10:39.481232Z"
    }
   },
   "outputs": [],
   "source": [
    "apple_dic['year']='1999'"
   ]
  },
  {
   "cell_type": "code",
   "execution_count": 91,
   "metadata": {
    "ExecuteTime": {
     "end_time": "2021-02-10T15:05:38.515489Z",
     "start_time": "2021-02-10T15:05:38.499533Z"
    }
   },
   "outputs": [
    {
     "data": {
      "text/plain": [
       "{'name': 'Apple', 'traded': 'AAPL', 'year': '1999'}"
      ]
     },
     "execution_count": 91,
     "metadata": {},
     "output_type": "execute_result"
    }
   ],
   "source": [
    "apple_dic"
   ]
  },
  {
   "cell_type": "code",
   "execution_count": 104,
   "metadata": {
    "ExecuteTime": {
     "end_time": "2021-02-10T15:11:05.453455Z",
     "start_time": "2021-02-10T15:11:05.435506Z"
    }
   },
   "outputs": [
    {
     "name": "stdout",
     "output_type": "stream",
     "text": [
      "{'name': 'Apple', 'traded': 'AAPL', 'year': '1999', 'founder': ['steve jobs', 'Ronald wayne']}\n",
      "{'name': 'Apple', 'traded': 'AAPL', 'year': '1999', 'founder': ['steve jobs', 'Ronald wayne']}\n",
      "{'name': 'Apple', 'traded': 'AAPL', 'year': '1999'}\n"
     ]
    }
   ],
   "source": [
    "# copy\n",
    "apple_dic1 = apple_dic\n",
    "apple_dic2 = apple_dic.copy()\n",
    "apple_dic['founder'] = ['steve jobs','Ronald wayne']\n",
    "print(apple_dic)\n",
    "print(apple_dic1)\n",
    "print(apple_dic2)"
   ]
  },
  {
   "cell_type": "code",
   "execution_count": 105,
   "metadata": {
    "ExecuteTime": {
     "end_time": "2021-02-10T15:12:04.395376Z",
     "start_time": "2021-02-10T15:12:04.380413Z"
    }
   },
   "outputs": [
    {
     "data": {
      "text/plain": [
       "{}"
      ]
     },
     "execution_count": 105,
     "metadata": {},
     "output_type": "execute_result"
    }
   ],
   "source": [
    "# clear and delete\n",
    "apple_dicx.clear()\n",
    "apple_dicx"
   ]
  },
  {
   "cell_type": "code",
   "execution_count": 106,
   "metadata": {
    "ExecuteTime": {
     "end_time": "2021-02-10T15:12:34.432372Z",
     "start_time": "2021-02-10T15:12:34.406443Z"
    }
   },
   "outputs": [
    {
     "ename": "NameError",
     "evalue": "name 'apple_dicy' is not defined",
     "output_type": "error",
     "traceback": [
      "\u001b[1;31m---------------------------------------------------------------------------\u001b[0m",
      "\u001b[1;31mNameError\u001b[0m                                 Traceback (most recent call last)",
      "\u001b[1;32m<ipython-input-106-f25aff9d9920>\u001b[0m in \u001b[0;36m<module>\u001b[1;34m\u001b[0m\n\u001b[0;32m      1\u001b[0m \u001b[0mapple_dicy\u001b[0m\u001b[1;33m\u001b[0m\u001b[1;33m\u001b[0m\u001b[0m\n\u001b[0;32m      2\u001b[0m \u001b[1;32mdel\u001b[0m \u001b[0mapple_dicy\u001b[0m\u001b[1;33m\u001b[0m\u001b[1;33m\u001b[0m\u001b[0m\n\u001b[1;32m----> 3\u001b[1;33m \u001b[0mapple_dicy\u001b[0m\u001b[1;33m\u001b[0m\u001b[1;33m\u001b[0m\u001b[0m\n\u001b[0m",
      "\u001b[1;31mNameError\u001b[0m: name 'apple_dicy' is not defined"
     ]
    }
   ],
   "source": [
    "apple_dicy\n",
    "del apple_dicy\n",
    "apple_dicy"
   ]
  },
  {
   "cell_type": "code",
   "execution_count": 107,
   "metadata": {
    "ExecuteTime": {
     "end_time": "2021-02-10T17:59:23.292013Z",
     "start_time": "2021-02-10T17:59:23.272071Z"
    }
   },
   "outputs": [
    {
     "name": "stdout",
     "output_type": "stream",
     "text": [
      "a is less than b\n"
     ]
    }
   ],
   "source": [
    "# if condition\n",
    "a = 70\n",
    "b=100\n",
    "if a>b:\n",
    "    print(\"a is greater than b\")\n",
    "elif a==b:\n",
    "    print(\"a is equal to b\")\n",
    "else:\n",
    "    print(\"a is less than b\")"
   ]
  },
  {
   "cell_type": "code",
   "execution_count": 161,
   "metadata": {
    "ExecuteTime": {
     "end_time": "2021-02-10T22:06:14.505012Z",
     "start_time": "2021-02-10T22:06:14.495908Z"
    }
   },
   "outputs": [
    {
     "name": "stdout",
     "output_type": "stream",
     "text": [
      "Apple\n",
      "Google\n"
     ]
    }
   ],
   "source": [
    "# for loop\n",
    "a = ['Apple','Google']\n",
    "# print(len(a))\n",
    "# #print(range(a))\n",
    "# print(range(len(a)))\n",
    "\n",
    "for i in range(len(a)):\n",
    "    print(a[i])\n",
    "    "
   ]
  },
  {
   "cell_type": "code",
   "execution_count": 162,
   "metadata": {
    "ExecuteTime": {
     "end_time": "2021-02-10T22:06:46.153487Z",
     "start_time": "2021-02-10T22:06:46.132551Z"
    }
   },
   "outputs": [
    {
     "name": "stdout",
     "output_type": "stream",
     "text": [
      "Apple\n",
      "Google\n"
     ]
    }
   ],
   "source": [
    "# for loop - above in other way\n",
    "a = ['Apple','Google']\n",
    "for i in a:\n",
    "    print(i)\n",
    "    "
   ]
  },
  {
   "cell_type": "code",
   "execution_count": 119,
   "metadata": {
    "ExecuteTime": {
     "end_time": "2021-02-10T21:20:01.190501Z",
     "start_time": "2021-02-10T21:20:01.181299Z"
    }
   },
   "outputs": [
    {
     "name": "stdout",
     "output_type": "stream",
     "text": [
      "Apple\n",
      "Google\n"
     ]
    }
   ],
   "source": [
    "for i in a:\n",
    "    print(i)"
   ]
  },
  {
   "cell_type": "code",
   "execution_count": 131,
   "metadata": {
    "ExecuteTime": {
     "end_time": "2021-02-10T21:24:02.347045Z",
     "start_time": "2021-02-10T21:24:02.338066Z"
    }
   },
   "outputs": [
    {
     "name": "stdout",
     "output_type": "stream",
     "text": [
      "range(0, 3)\n"
     ]
    }
   ],
   "source": [
    "print(range(3))"
   ]
  },
  {
   "cell_type": "code",
   "execution_count": 132,
   "metadata": {
    "ExecuteTime": {
     "end_time": "2021-02-10T21:24:12.865672Z",
     "start_time": "2021-02-10T21:24:12.844729Z"
    }
   },
   "outputs": [
    {
     "name": "stdout",
     "output_type": "stream",
     "text": [
      "range(0, 3)\n"
     ]
    }
   ],
   "source": [
    "print(range(0,3))"
   ]
  },
  {
   "cell_type": "code",
   "execution_count": 154,
   "metadata": {
    "ExecuteTime": {
     "end_time": "2021-02-10T21:40:13.121261Z",
     "start_time": "2021-02-10T21:40:13.104304Z"
    }
   },
   "outputs": [
    {
     "name": "stdout",
     "output_type": "stream",
     "text": [
      "0\n",
      "1\n",
      "2\n",
      "3\n",
      "4\n",
      "5\n"
     ]
    }
   ],
   "source": [
    "x= range(6)\n",
    "for n in x:\n",
    "  print(n)\n"
   ]
  },
  {
   "cell_type": "code",
   "execution_count": 155,
   "metadata": {
    "ExecuteTime": {
     "end_time": "2021-02-10T21:45:00.511915Z",
     "start_time": "2021-02-10T21:45:00.493979Z"
    }
   },
   "outputs": [
    {
     "name": "stdout",
     "output_type": "stream",
     "text": [
      "1\n",
      "2\n",
      "3\n",
      "4\n",
      "5\n",
      "6\n"
     ]
    }
   ],
   "source": [
    "l1 = [1,2,3,4,5,6]\n",
    "for i in l1:\n",
    "    print(i)"
   ]
  },
  {
   "cell_type": "code",
   "execution_count": 185,
   "metadata": {
    "ExecuteTime": {
     "end_time": "2021-02-10T22:47:17.505513Z",
     "start_time": "2021-02-10T22:47:17.473576Z"
    }
   },
   "outputs": [
    {
     "name": "stdout",
     "output_type": "stream",
     "text": [
      "0 Apple\n"
     ]
    },
    {
     "ename": "IndexError",
     "evalue": "list index out of range",
     "output_type": "error",
     "traceback": [
      "\u001b[1;31m---------------------------------------------------------------------------\u001b[0m",
      "\u001b[1;31mIndexError\u001b[0m                                Traceback (most recent call last)",
      "\u001b[1;32m<ipython-input-185-2c7e64d4a310>\u001b[0m in \u001b[0;36m<module>\u001b[1;34m\u001b[0m\n\u001b[0;32m      5\u001b[0m \u001b[1;32mfor\u001b[0m \u001b[0mi\u001b[0m \u001b[1;32min\u001b[0m \u001b[0mrange\u001b[0m\u001b[1;33m(\u001b[0m\u001b[1;36m0\u001b[0m\u001b[1;33m,\u001b[0m\u001b[0mlen\u001b[0m\u001b[1;33m(\u001b[0m\u001b[0ml2\u001b[0m\u001b[1;33m)\u001b[0m\u001b[1;33m,\u001b[0m\u001b[1;36m2\u001b[0m\u001b[1;33m)\u001b[0m\u001b[1;33m:\u001b[0m\u001b[1;33m\u001b[0m\u001b[1;33m\u001b[0m\u001b[0m\n\u001b[0;32m      6\u001b[0m    \u001b[1;31m# print(f'{i} is {a[i]}')\u001b[0m\u001b[1;33m\u001b[0m\u001b[1;33m\u001b[0m\u001b[1;33m\u001b[0m\u001b[0m\n\u001b[1;32m----> 7\u001b[1;33m     \u001b[0mprint\u001b[0m\u001b[1;33m(\u001b[0m\u001b[0mi\u001b[0m\u001b[1;33m,\u001b[0m\u001b[0ma\u001b[0m\u001b[1;33m[\u001b[0m\u001b[0mi\u001b[0m\u001b[1;33m]\u001b[0m\u001b[1;33m)\u001b[0m\u001b[1;33m\u001b[0m\u001b[1;33m\u001b[0m\u001b[0m\n\u001b[0m\u001b[0;32m      8\u001b[0m \u001b[1;31m#print(f'{name} is {age} years old')\u001b[0m\u001b[1;33m\u001b[0m\u001b[1;33m\u001b[0m\u001b[1;33m\u001b[0m\u001b[0m\n",
      "\u001b[1;31mIndexError\u001b[0m: list index out of range"
     ]
    }
   ],
   "source": [
    "l2 = range(11,25)\n",
    "\n",
    "# print(l2)\n",
    "# print(len(l2))\n",
    "for i in range(0,len(l2),2):\n",
    "   # print(f'{i} is {a[i]}')\n",
    "    print(i,a[i])\n",
    "#print(f'{name} is {age} years old')"
   ]
  },
  {
   "cell_type": "code",
   "execution_count": 193,
   "metadata": {
    "ExecuteTime": {
     "end_time": "2021-02-10T22:52:33.160336Z",
     "start_time": "2021-02-10T22:52:33.143830Z"
    }
   },
   "outputs": [
    {
     "name": "stdout",
     "output_type": "stream",
     "text": [
      "20\n",
      "30\n",
      "40\n"
     ]
    }
   ],
   "source": [
    "# \n",
    "a = [10,20,30]\n",
    "for i in range(0,len(a)):\n",
    "    x= a[i]\n",
    "    x= x+10\n",
    "    print(x)\n",
    "    "
   ]
  },
  {
   "cell_type": "code",
   "execution_count": 194,
   "metadata": {
    "ExecuteTime": {
     "end_time": "2021-02-11T11:57:23.916084Z",
     "start_time": "2021-02-11T11:57:23.905939Z"
    }
   },
   "outputs": [
    {
     "name": "stdout",
     "output_type": "stream",
     "text": [
      "hi\n",
      "Hello\n"
     ]
    }
   ],
   "source": [
    "# functions\n",
    "def func():\n",
    "    print('hi')\n",
    "    print('Hello')\n",
    "\n",
    "func()"
   ]
  },
  {
   "cell_type": "code",
   "execution_count": 195,
   "metadata": {
    "ExecuteTime": {
     "end_time": "2021-02-11T11:58:21.250458Z",
     "start_time": "2021-02-11T11:58:21.235533Z"
    }
   },
   "outputs": [],
   "source": [
    "#function for airthmatic opets\n",
    "def add_func(x):\n",
    "    return x+2"
   ]
  },
  {
   "cell_type": "code",
   "execution_count": 196,
   "metadata": {
    "ExecuteTime": {
     "end_time": "2021-02-11T11:58:29.591187Z",
     "start_time": "2021-02-11T11:58:29.579912Z"
    }
   },
   "outputs": [
    {
     "data": {
      "text/plain": [
       "8"
      ]
     },
     "execution_count": 196,
     "metadata": {},
     "output_type": "execute_result"
    }
   ],
   "source": [
    "add_func(6)"
   ]
  },
  {
   "cell_type": "code",
   "execution_count": 197,
   "metadata": {
    "ExecuteTime": {
     "end_time": "2021-02-11T11:58:38.307247Z",
     "start_time": "2021-02-11T11:58:38.282098Z"
    }
   },
   "outputs": [
    {
     "ename": "TypeError",
     "evalue": "add_func() missing 1 required positional argument: 'x'",
     "output_type": "error",
     "traceback": [
      "\u001b[1;31m---------------------------------------------------------------------------\u001b[0m",
      "\u001b[1;31mTypeError\u001b[0m                                 Traceback (most recent call last)",
      "\u001b[1;32m<ipython-input-197-b9fecb307e32>\u001b[0m in \u001b[0;36m<module>\u001b[1;34m\u001b[0m\n\u001b[1;32m----> 1\u001b[1;33m \u001b[0madd_func\u001b[0m\u001b[1;33m(\u001b[0m\u001b[1;33m)\u001b[0m\u001b[1;33m\u001b[0m\u001b[1;33m\u001b[0m\u001b[0m\n\u001b[0m",
      "\u001b[1;31mTypeError\u001b[0m: add_func() missing 1 required positional argument: 'x'"
     ]
    }
   ],
   "source": [
    "add_func() # this will through error"
   ]
  },
  {
   "cell_type": "code",
   "execution_count": 206,
   "metadata": {
    "ExecuteTime": {
     "end_time": "2021-02-11T12:08:18.641716Z",
     "start_time": "2021-02-11T12:08:18.622765Z"
    }
   },
   "outputs": [],
   "source": [
    "# multiple values to function\n",
    "def multi_func(*values):\n",
    "    n=1\n",
    "    for item in values:\n",
    "        n*=item\n",
    "    return n\n",
    "        \n",
    "        "
   ]
  },
  {
   "cell_type": "code",
   "execution_count": 207,
   "metadata": {
    "ExecuteTime": {
     "end_time": "2021-02-11T12:08:19.083865Z",
     "start_time": "2021-02-11T12:08:19.064906Z"
    }
   },
   "outputs": [
    {
     "data": {
      "text/plain": [
       "24"
      ]
     },
     "execution_count": 207,
     "metadata": {},
     "output_type": "execute_result"
    }
   ],
   "source": [
    "multi_func(1,2,3,4)\n"
   ]
  },
  {
   "cell_type": "code",
   "execution_count": 208,
   "metadata": {
    "ExecuteTime": {
     "end_time": "2021-02-11T12:10:22.051431Z",
     "start_time": "2021-02-11T12:10:22.040411Z"
    }
   },
   "outputs": [
    {
     "name": "stdout",
     "output_type": "stream",
     "text": [
      "55\n"
     ]
    }
   ],
   "source": [
    "# lambda function - one line function\n",
    "\n",
    "lb_fn = lambda x:x+5\n",
    "print(lb_fn(50))\n"
   ]
  },
  {
   "cell_type": "code",
   "execution_count": 209,
   "metadata": {
    "ExecuteTime": {
     "end_time": "2021-02-11T12:10:41.713230Z",
     "start_time": "2021-02-11T12:10:41.703998Z"
    }
   },
   "outputs": [
    {
     "name": "stdout",
     "output_type": "stream",
     "text": [
      "2500\n"
     ]
    }
   ],
   "source": [
    "lb_fn = lambda x:x*50\n",
    "print(lb_fn(50))"
   ]
  },
  {
   "cell_type": "code",
   "execution_count": 213,
   "metadata": {
    "ExecuteTime": {
     "end_time": "2021-02-11T12:14:53.624094Z",
     "start_time": "2021-02-11T12:14:53.602150Z"
    }
   },
   "outputs": [
    {
     "name": "stdout",
     "output_type": "stream",
     "text": [
      "[('Amazon', 22), ('Google', 33), ('Redhat', 44), ('apple', 11)]\n"
     ]
    }
   ],
   "source": [
    "compny_list = [('apple',11),('Amazon',22),('Google',33),('Redhat',44)]\n",
    "compny_list.sort(key=lambda x:x[0])\n",
    "print(compny_list)"
   ]
  },
  {
   "cell_type": "code",
   "execution_count": 223,
   "metadata": {
    "ExecuteTime": {
     "end_time": "2021-02-11T12:19:32.466407Z",
     "start_time": "2021-02-11T12:19:32.457382Z"
    }
   },
   "outputs": [
    {
     "name": "stdout",
     "output_type": "stream",
     "text": [
      "[2, 4, 6, 8, 10]\n"
     ]
    }
   ],
   "source": [
    "# lambda and filter\n",
    "numbers = [1,2,3,4,5,6,7,8,9,10]\n",
    "even_num = list(filter(lambda x:x%2 == 0,numbers))\n",
    "#odd_num = lambda x:x%2==1,numbers\n",
    "print(even_num)\n"
   ]
  },
  {
   "cell_type": "code",
   "execution_count": null,
   "metadata": {},
   "outputs": [],
   "source": []
  }
 ],
 "metadata": {
  "kernelspec": {
   "display_name": "Python 3",
   "language": "python",
   "name": "python3"
  },
  "language_info": {
   "codemirror_mode": {
    "name": "ipython",
    "version": 3
   },
   "file_extension": ".py",
   "mimetype": "text/x-python",
   "name": "python",
   "nbconvert_exporter": "python",
   "pygments_lexer": "ipython3",
   "version": "3.7.6"
  }
 },
 "nbformat": 4,
 "nbformat_minor": 4
}
